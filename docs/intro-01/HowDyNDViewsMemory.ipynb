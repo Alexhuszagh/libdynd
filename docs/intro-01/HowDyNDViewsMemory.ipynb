{
 "cells": [],
 "metadata": {
  "celltoolbar": "Slideshow",
  "kernelspec": {
   "display_name": "IPython (Python 3)",
   "name": "python3"
  },
  "language_info": {
   "codemirror_mode": {
    "name": "ipython",
    "version": 3
   },
   "file_extension": ".py",
   "mimetype": "text/x-python",
   "name": "python",
   "nbconvert_exporter": "python",
   "pygments_lexer": "ipython3"
  },
  "signature": "sha256:aae7665613d372c3452b211ce8a8412910a19d5eaf991df02b2a991c0918d537"
 },
 "nbformat": 4,
 "nbformat_minor": 0
}