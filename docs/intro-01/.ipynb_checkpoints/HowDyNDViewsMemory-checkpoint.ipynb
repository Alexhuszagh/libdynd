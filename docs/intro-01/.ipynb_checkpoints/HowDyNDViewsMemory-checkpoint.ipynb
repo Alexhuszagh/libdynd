{
 "cells": [
  {
   "cell_type": "markdown",
   "metadata": {
    "slideshow": {
     "slide_type": "slide"
    }
   },
   "source": [
    "# How DyND Views Memory\n",
    "\n",
    "## Basics of the DyND Architecture\n",
    "\n",
    "<p style=\"text-align:right\">\n",
    "Mark Wiebe<br/>\n",
    "Continuum Analytics\n",
    "</p>"
   ]
  },
  {
   "cell_type": "markdown",
   "metadata": {
    "slideshow": {
     "slide_type": "slide"
    }
   },
   "source": [
    "# Motivating the DyND Array Data Structure\n",
    "\n",
    "To work with DyND at a low level, particularly to be able to develop in the library, one needs a good understanding of how DyND views memory. We're going to work our way from Python objects to DyND arrays, motivating its design as we go.\n",
    "\n",
    "At the end of these slides, you will hopefully grasp why DyND is structured as it is, and be prepared to dig deeper into its code."
   ]
  },
  {
   "cell_type": "markdown",
   "metadata": {
    "slideshow": {
     "slide_type": "slide"
    }
   },
   "source": [
    "# Python Objects\n",
    "\n",
    "We begin with a look at a Python object. In Python, objects are stored in memory blocks independently allocated on the heap. A single floating point value looks something like this:\n",
    "\n",
    "![Python Float](files/python_float.svg)\n",
    "\n",
    "This doesn\u2019t look too bad, in a dynamically typed system we need to store some metadata about the type, and we need to store the data containing the value."
   ]
  },
  {
   "cell_type": "markdown",
   "metadata": {
    "slideshow": {
     "slide_type": "slide"
    }
   },
   "source": [
    "# Python List\n",
    "\n",
    "Often, however, we don\u2019t want just one floating point value, we want a whole array of them. In Python, this is done using a list object, which looks like this:\n",
    "\n",
    "![Python List of Float](files/python_list_of_float.svg)"
   ]
  },
  {
   "cell_type": "markdown",
   "metadata": {
    "slideshow": {
     "slide_type": "slide"
    }
   },
   "source": [
    "# Python List Problems\n",
    "\n",
    "We can start to see some problems from this picture.\n",
    "\n",
    "* The float type metadata is repeated seven times. No way to say \u201ceverything is float, just store that once.\u201d\n",
    "* The memory for the floats might be separated or out of order in memory. Bad for CPU cache utilization.\n",
    "* There is memory being used for the pointers to all the individual floats.\n",
    "\n",
    "We will call this the \u201cSmalltalk road.\u201d Program data is made of many little objects, connected by pointers. Another option is the \u201cFortran road,\u201d where program data is made of arrays of data, stored contiguously."
   ]
  },
  {
   "cell_type": "markdown",
   "metadata": {
    "slideshow": {
     "slide_type": "slide"
    }
   },
   "source": [
    "# Smalltalk Road vs Fortran Road\n",
    "\n",
    "There's a long but worthwhile set of lectures by Alexander Stepanov on Amazon A9's youtube site which goes into some depth about many programming topics. \n"
   ]
  },
  {
   "cell_type": "code",
   "execution_count": 1,
   "metadata": {
    "collapsed": false
   },
   "outputs": [
    {
     "ename": "SyntaxError",
     "evalue": "invalid syntax (<ipython-input-1-d63947f37736>, line 3)",
     "output_type": "error",
     "traceback": [
      "\u001b[1;36m  File \u001b[1;32m\"<ipython-input-1-d63947f37736>\"\u001b[1;36m, line \u001b[1;32m3\u001b[0m\n\u001b[1;33m    <iframe width=\"640\" height=\"390\" src=\"https://www.youtube.com/embed/?start=190\" frameborder=\"0\" allowfullscreen></iframe>\u001b[0m\n\u001b[1;37m    ^\u001b[0m\n\u001b[1;31mSyntaxError\u001b[0m\u001b[1;31m:\u001b[0m invalid syntax\n"
     ]
    }
   ],
   "source": [
    "from IPython.display import YouTubeVideo\n",
    "YouTubeVideo(\"Y4qdNddSWAg\", start=190)"
   ]
  },
  {
   "cell_type": "markdown",
   "metadata": {
    "collapsed": true,
    "slideshow": {
     "slide_type": "slide"
    }
   },
   "source": [
    "# Why Python Is Slow\n",
    "\n",
    "Jake VanderPlas has [an excellent blog post](https://jakevdp.github.io/blog/2014/05/09/why-python-is-slow/) which dives into more details of Python's structure, that of the CPython interpreter in particular.\n",
    "\n",
    "The game programming industry is a great place to look for performance inspiration, as they work under constraints far more harsh than most developers. Bob Nystrom's book \"Game Programming Patterns\" [has a chapter about data locality](http://gameprogrammingpatterns.com/data-locality.html) which goes into nice depth on the topic.\n",
    "\n"
   ]
  }
 ],
 "metadata": {
  "celltoolbar": "Slideshow",
  "kernelspec": {
   "display_name": "IPython (Python 3)",
   "name": "python3"
  },
  "language_info": {
   "codemirror_mode": {
    "name": "ipython",
    "version": 3
   },
   "file_extension": ".py",
   "mimetype": "text/x-python",
   "name": "python",
   "nbconvert_exporter": "python",
   "pygments_lexer": "ipython3"
  },
  "signature": "sha256:0ace5d3aeadfdd1174576a07298a1bc0a6264d544b9845549f0f85819cb687cc"
 },
 "nbformat": 4,
 "nbformat_minor": 0
}