{
 "cells": [
  {
   "cell_type": "markdown",
   "metadata": {
    "slideshow": {
     "slide_type": "slide"
    }
   },
   "source": [
    "# How DyND Views Memory\n",
    "\n",
    "## Basics of the DyND Architecture Part 1\n",
    "\n",
    "<p style=\"text-align:right\">\n",
    "Mark Wiebe<br/>\n",
    "Continuum Analytics\n",
    "</p>"
   ]
  },
  {
   "cell_type": "markdown",
   "metadata": {
    "slideshow": {
     "slide_type": "slide"
    }
   },
   "source": [
    "# Motivating the DyND Array Data Structure\n",
    "\n",
    "To work with DyND at a low level, particularly to be able to develop in the library, one needs a good understanding of how DyND views memory. We're going to work our way from Python objects to DyND arrays, motivating its design as we go.\n",
    "\n",
    "At the end of these slides, you will hopefully grasp why DyND is structured as it is, and be prepared to dig deeper into its code."
   ]
  },
  {
   "cell_type": "markdown",
   "metadata": {
    "slideshow": {
     "slide_type": "slide"
    }
   },
   "source": [
    "# Python Objects\n",
    "\n",
    "We begin with a look at a Python object. In Python, objects are stored in memory blocks independently allocated on the heap. A single floating point value looks something like this:\n",
    "\n",
    "![Python Float](files/python_float.svg)\n",
    "\n",
    "This doesn\u2019t look too bad, in a dynamically typed system we need to store some metadata about the type, and we need to store the data containing the value."
   ]
  },
  {
   "cell_type": "markdown",
   "metadata": {
    "slideshow": {
     "slide_type": "subslide"
    }
   },
   "source": [
    "# Python List\n",
    "\n",
    "Often, however, we don\u2019t want just one floating point value, we want a whole array of them. In Python, this is done using a list object, which looks like this:\n",
    "\n",
    "![Python List of Float](files/python_list_of_float.svg)"
   ]
  },
  {
   "cell_type": "markdown",
   "metadata": {
    "slideshow": {
     "slide_type": "subslide"
    }
   },
   "source": [
    "# Python List Problems\n",
    "\n",
    "We can start to see some problems from this picture.\n",
    "\n",
    "* The float type metadata is repeated seven times. No way to say \u201ceverything is float, just store that once.\u201d\n",
    "* The memory for the floats might be separated or out of order in memory. Bad for CPU cache utilization.\n",
    "* There is memory being used for the pointers to all the individual floats.\n",
    "\n",
    "We will call this the \u201cSmalltalk road.\u201d Program data is made of many little objects, connected by pointers. Another option is the \u201cFortran road,\u201d where program data is made of arrays of data, stored contiguously."
   ]
  },
  {
   "cell_type": "markdown",
   "metadata": {
    "slideshow": {
     "slide_type": "subslide"
    }
   },
   "source": [
    "# Smalltalk Road vs Fortran Road\n",
    "\n",
    "There's a long but worthwhile set of lectures by Alexander Stepanov on Amazon A9's youtube site which goes into some depth about many programming topics. \n"
   ]
  },
  {
   "cell_type": "code",
   "execution_count": 3,
   "metadata": {
    "collapsed": false,
    "slideshow": {
     "slide_type": "fragment"
    }
   },
   "outputs": [
    {
     "data": {
      "text/html": [
       "\n",
       "        <iframe\n",
       "            width=\"400\"\n",
       "            height=\"300\"\n",
       "            src=\"https://www.youtube.com/embed/Y4qdNddSWAg?start=190\"\n",
       "            frameborder=\"0\"\n",
       "            allowfullscreen\n",
       "        ></iframe>\n",
       "        "
      ],
      "text/plain": [
       "<IPython.lib.display.YouTubeVideo at 0x41b2f28>"
      ]
     },
     "execution_count": 3,
     "metadata": {},
     "output_type": "execute_result"
    }
   ],
   "source": [
    "from IPython.display import YouTubeVideo\n",
    "YouTubeVideo(\"Y4qdNddSWAg\", start=190)"
   ]
  },
  {
   "cell_type": "markdown",
   "metadata": {
    "collapsed": true,
    "slideshow": {
     "slide_type": "subslide"
    }
   },
   "source": [
    "# Why Python Is Slow\n",
    "\n",
    "Jake VanderPlas has [an excellent blog post](https://jakevdp.github.io/blog/2014/05/09/why-python-is-slow/) which dives into more details of Python's structure, that of the CPython interpreter in particular.\n",
    "\n",
    "The game programming industry is a great place to look for performance inspiration, as they work under constraints far more harsh than most developers. Bob Nystrom's book \"Game Programming Patterns\" [has a chapter about data locality](http://gameprogrammingpatterns.com/data-locality.html) which goes into nice depth on the topic.\n",
    "\n"
   ]
  },
  {
   "cell_type": "markdown",
   "metadata": {
    "slideshow": {
     "slide_type": "slide"
    }
   },
   "source": [
    "# Dynamic Array\n",
    "\n",
    "Let's take the Python list we looked at, factor out the redundant repetition of the float type metadata, and split all the type information away from the value storage. This gives us an abstract idea of how a dynamic array should look:\n",
    "\n",
    "![Dynamic Array](files/abstract_array_of_float.svg)"
   ]
  },
  {
   "cell_type": "markdown",
   "metadata": {
    "slideshow": {
     "slide_type": "subslide"
    }
   },
   "source": [
    "# NumPy Array\n",
    "\n",
    "The dynamic array we madeis just a small step away from the NumPy array. In NumPy, the \u201cArray of 7\u201d part is represented as (ndim, shape, strides), and the \u201cFloat type\u201d part is represented as the NumPy dtype.\n",
    "\n",
    "![NumPy Array](files/numpy_array_of_float.svg)"
   ]
  },
  {
   "cell_type": "markdown",
   "metadata": {
    "slideshow": {
     "slide_type": "subslide"
    }
   },
   "source": [
    "# NumPy Strided Array\n",
    "\n",
    "The strided array approach NumPy takes turns out to be a very good data structure for many kinds of numeric data. Allowing the strides to be set arbitrarily means both C-order (row-major) and Fortran-order (column-major) data can be represented naturally. There is good material out there going into more depth showing the consequences and benefits of it.\n",
    "\n",
    "One good resource is [this section of open SciPy lecture notes.](https://scipy-lectures.github.io/intro/numpy/array_object.html)\n",
    "\n",
    "<img src=\"https://scipy-lectures.github.io/_images/numpy_indexing.png\" width=\"500\"/>"
   ]
  },
  {
   "cell_type": "markdown",
   "metadata": {
    "slideshow": {
     "slide_type": "subslide"
    }
   },
   "source": [
    "# Weaknesses of NumPy\n",
    "\n",
    "NumPy, as fantastic as it is, has proved to be lacking in many areas. It provides something good enough and stable enough that a huge ecosystem has grown on top of it, but there are many directions people try to stretch it that require incredible contortions or performance sacrifices to achieve.\n",
    "\n",
    "A few of these weaknesses include\n",
    "\n",
    "* A slow pace of evolution. NumPy development is highly constrained by backwards compatibility demands.\n",
    "* Written directly against the CPython API. There is no core library that can be shared in a larger community.\n",
    "* Implemented in C, which tends to be very verbose and error-prone compared to its expressiveness. C++, especially with the recent C++11 and C++14 standards, has many features that help implementing this kind of library\n",
    "* Missing features that people want: Ragged arrays, more data types, labeled dimensions, and physical units metadata, to name a few."
   ]
  },
  {
   "cell_type": "markdown",
   "metadata": {
    "slideshow": {
     "slide_type": "slide"
    }
   },
   "source": [
    "# The DyND Array\n",
    "\n",
    "DyND begins one step back from NumPy in the data representation narrative we have followed, generalizing the \u201cDynamic Array\u201d we saw differently. Instead of focusing on the \u201cArray of 7\u201d part and turning it into a \u201cgeneral strided multi-dimensional array,\u201d DyND treats it as one dimension of a hierarchically represented type. DyND takes the regularities in the types of stored data, bundles them together into a type, and takes the data as a separate bundle. This gets us a picture like this:\n",
    "\n",
    "![DyND Array Take 1](files/dynd_array_of_float_take_1.svg)"
   ]
  },
  {
   "cell_type": "code",
   "execution_count": null,
   "metadata": {
    "collapsed": true
   },
   "outputs": [],
   "source": []
  }
 ],
 "metadata": {
  "celltoolbar": "Slideshow",
  "kernelspec": {
   "display_name": "IPython (Python 3)",
   "name": "python3"
  },
  "language_info": {
   "codemirror_mode": {
    "name": "ipython",
    "version": 3
   },
   "file_extension": ".py",
   "mimetype": "text/x-python",
   "name": "python",
   "nbconvert_exporter": "python",
   "pygments_lexer": "ipython3"
  },
  "signature": "sha256:fa20bc63cef80f6f38090997f02c2bcbd0ba80ee5d854198b7b0b20cc1355c0e"
 },
 "nbformat": 4,
 "nbformat_minor": 0
}