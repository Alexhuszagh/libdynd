{
 "cells": [
  {
   "cell_type": "markdown",
   "metadata": {
    "slideshow": {
     "slide_type": "slide"
    }
   },
   "source": [
    "# How DyND Views Memory\n",
    "\n",
    "## Basics of the DyND Architecture Part 1\n",
    "\n",
    "<p style=\"text-align:right\">\n",
    "Mark Wiebe<br/>\n",
    "Continuum Analytics\n",
    "</p>"
   ]
  },
  {
   "cell_type": "markdown",
   "metadata": {
    "slideshow": {
     "slide_type": "slide"
    }
   },
   "source": [
    "# Motivating the DyND Array Data Structure\n",
    "\n",
    "To work with DyND at a low level, particularly to be able to develop in the library, one needs a good understanding of how DyND views memory. We're going to work our way from Python objects to DyND arrays, motivating its design as we go.\n",
    "\n",
    "At the end of these slides, you will hopefully grasp why DyND is structured as it is, and be prepared to dig deeper into its code."
   ]
  },
  {
   "cell_type": "markdown",
   "metadata": {
    "slideshow": {
     "slide_type": "slide"
    }
   },
   "source": [
    "# Python Objects\n",
    "\n",
    "We begin with a look at a Python object. In Python, objects are stored in memory blocks independently allocated on the heap. A single floating point value looks something like this:\n",
    "\n",
    "<center>![Python Float](fig/python_float.svg)</center>\n",
    "\n",
    "This doesn\u2019t look too bad, in a dynamically typed system we need to store some metadata about the type, and we need to store the data containing the value."
   ]
  },
  {
   "cell_type": "markdown",
   "metadata": {
    "slideshow": {
     "slide_type": "subslide"
    }
   },
   "source": [
    "# Python List\n",
    "\n",
    "Often, however, we don\u2019t want just one floating point value, we want a whole array of them. In Python, this is done using a list object, which looks like this:\n",
    "\n",
    "<center>![Python List of Float](fig/python_list_of_float.svg)</center>"
   ]
  },
  {
   "cell_type": "markdown",
   "metadata": {
    "slideshow": {
     "slide_type": "subslide"
    }
   },
   "source": [
    "# Python List Problems\n",
    "\n",
    "We can start to see some problems from this picture.\n",
    "\n",
    "* The float type metadata is repeated seven times. No way to say \u201ceverything is float, just store that once.\u201d\n",
    "* The memory for the floats might be separated or out of order in memory. Bad for CPU cache utilization.\n",
    "* There is memory being used for the pointers to all the individual floats.\n",
    "\n",
    "We will call this the \u201cSmalltalk road.\u201d Program data is made of many little objects, connected by pointers. Another option is the \u201cFortran road,\u201d where program data is made of arrays of data, stored contiguously."
   ]
  },
  {
   "cell_type": "markdown",
   "metadata": {
    "slideshow": {
     "slide_type": "subslide"
    }
   },
   "source": [
    "# Smalltalk Road vs Fortran Road\n",
    "\n",
    "There's a long but worthwhile set of lectures by Alexander Stepanov on Amazon A9's youtube site which goes into some depth about many programming topics. \n"
   ]
  },
  {
   "cell_type": "code",
   "execution_count": 1,
   "metadata": {
    "collapsed": false,
    "slideshow": {
     "slide_type": "fragment"
    }
   },
   "outputs": [
    {
     "data": {
      "text/html": [
       "\n",
       "        <iframe\n",
       "            width=\"400\"\n",
       "            height=\"300\"\n",
       "            src=\"https://www.youtube.com/embed/Y4qdNddSWAg?start=190\"\n",
       "            frameborder=\"0\"\n",
       "            allowfullscreen\n",
       "        ></iframe>\n",
       "        "
      ],
      "text/plain": [
       "<IPython.lib.display.YouTubeVideo at 0x41daf60>"
      ]
     },
     "execution_count": 1,
     "metadata": {},
     "output_type": "execute_result"
    }
   ],
   "source": [
    "from IPython.display import YouTubeVideo\n",
    "YouTubeVideo(\"Y4qdNddSWAg\", start=190)"
   ]
  },
  {
   "cell_type": "markdown",
   "metadata": {
    "collapsed": true,
    "slideshow": {
     "slide_type": "subslide"
    }
   },
   "source": [
    "# Why Python Is Slow\n",
    "\n",
    "Jake VanderPlas has [an excellent blog post](https://jakevdp.github.io/blog/2014/05/09/why-python-is-slow/) which dives into more details of Python's structure, that of the CPython interpreter in particular.\n",
    "\n",
    "The game programming industry is a great place to look for performance inspiration, as they work under constraints far more harsh than most developers. Bob Nystrom's book \"Game Programming Patterns\" [has a chapter about data locality](http://gameprogrammingpatterns.com/data-locality.html) which goes into nice depth on the topic.\n",
    "\n"
   ]
  },
  {
   "cell_type": "markdown",
   "metadata": {
    "slideshow": {
     "slide_type": "slide"
    }
   },
   "source": [
    "# Dynamic Array\n",
    "\n",
    "Let's take the Python list we looked at, factor out the redundant repetition of the float type metadata, and split all the type information away from the value storage. This gives us an abstract idea of how a dynamic array should look:\n",
    "\n",
    "<center>![Dynamic Array](fig/abstract_array_of_float.svg)</center>"
   ]
  },
  {
   "cell_type": "markdown",
   "metadata": {
    "slideshow": {
     "slide_type": "subslide"
    }
   },
   "source": [
    "# NumPy Array\n",
    "\n",
    "The dynamic array we made is just a small step away from the NumPy array. In NumPy, the \u201cArray of 7\u201d part is represented as (ndim, shape, strides), and the \u201cFloat type\u201d part is represented as the NumPy dtype.\n",
    "\n",
    "<center>![NumPy Array](fig/numpy_array_of_float.svg)</center>"
   ]
  },
  {
   "cell_type": "markdown",
   "metadata": {
    "slideshow": {
     "slide_type": "subslide"
    }
   },
   "source": [
    "# NumPy Strided Array\n",
    "\n",
    "The strided array approach NumPy takes turns out to be a very good data structure for many kinds of numeric data. Allowing the strides to be set arbitrarily means both C-order (row-major) and Fortran-order (column-major) data can be represented naturally. There is good material out there going into more depth showing the consequences and benefits of it.\n",
    "\n",
    "One good resource is [this section of open SciPy lecture notes.](https://scipy-lectures.github.io/intro/numpy/array_object.html)\n",
    "\n",
    "<center><img src=\"https://scipy-lectures.github.io/_images/numpy_indexing.png\" width=\"500\"/></center>"
   ]
  },
  {
   "cell_type": "markdown",
   "metadata": {
    "slideshow": {
     "slide_type": "subslide"
    }
   },
   "source": [
    "# Weaknesses of NumPy\n",
    "\n",
    "NumPy, as fantastic as it is, has proved to be lacking in many areas. It provides something good enough and stable enough that a huge ecosystem has grown on top of it, but there are many directions people try to stretch it that require incredible contortions or performance sacrifices to achieve.\n",
    "\n",
    "A few of these weaknesses include\n",
    "\n",
    "* A slow pace of evolution. NumPy development is highly constrained by backwards compatibility requirements.\n",
    "* Written directly against the CPython API. There is no core library that can be shared in a larger community. (Compare with [Jupyter](http://jupyter.org/))\n",
    "* Implemented in C, which tends to be very verbose and error-prone relative to its expressiveness. C++, especially with the recent C++11 and C++14 standards, has many features that help implementing this kind of library.\n",
    "* Missing features that people want: Ragged arrays, more data types, labeled dimensions, and physical units metadata, to name a few."
   ]
  },
  {
   "cell_type": "markdown",
   "metadata": {
    "slideshow": {
     "slide_type": "slide"
    }
   },
   "source": [
    "# The DyND Array\n",
    "\n",
    "DyND begins one step back from NumPy in the data representation narrative we have followed, generalizing the \u201cDynamic Array\u201d we saw differently. Instead of focusing on the \u201cArray of 7\u201d part and turning it into a \u201cgeneral strided multi-dimensional array,\u201d DyND treats it as one dimension of a hierarchically represented type. DyND takes the regularities in the types of stored data, bundles them together into a type, and takes the data as a separate bundle. This gets us a picture like this:\n",
    "\n",
    "<center>![DyND Array Take 1](fig/dynd_array_of_float_take_1.svg)</center>"
   ]
  },
  {
   "cell_type": "markdown",
   "metadata": {
    "collapsed": true,
    "slideshow": {
     "slide_type": "subslide"
    }
   },
   "source": [
    "# DyND Types\n",
    "\n",
    "The types DyND is using are from datashape, a type system created for the Blaze project. What datashape does is combine the shape and dtype notions we saw in the NumPy array.\n",
    "\n",
    "The shape is generalized slightly, allowing both NumPy-style strided dimensions, called \u201cfixed\u201d as seen in the DyND Array diagram, as well as variable-sized dimensions, called \u201cvar.\u201d This variable-sized dimension allows for storage of ragged data.\n",
    "\n",
    "The dtype is also slightly generalized over NumPy, but more importantly a language is defined for writing out types in the datashape system. This is spelled out in [the datashape documentation](http://datashape.pydata.org/grammar.html)."
   ]
  },
  {
   "cell_type": "markdown",
   "metadata": {
    "collapsed": true,
    "slideshow": {
     "slide_type": "slide"
    }
   },
   "source": [
    "# Slicing Arrays\n",
    "\n",
    "Slicing is a pretty common operation to perform on numerical arrays, so we're going to use it to examine how the structure of the DyND array we defined fares.\n",
    "\n",
    "In NumPy, slicing is enabled by the strided nature of the array object and the ability to point at the data of another array object. DyND works much the same way. Each \u201cfixed\u201d dimension has an associated stride, and the DyND array contains a data reference in addition to the raw data pointer.\n",
    "\n",
    "Our diagram didn't include the stride, though, so we have to determine where it will go.\n",
    "\n",
    "Based on what was described so far, there are two places: in the type or in the value. Let\u2019s first imagine we put the stride in the type, and see what happens when we apply two different slices to an array."
   ]
  },
  {
   "cell_type": "markdown",
   "metadata": {
    "slideshow": {
     "slide_type": "subslide"
    }
   },
   "source": [
    "# Putting The Stride In The Type\n",
    "\n",
    "To take a look at what will happen, let's consider an array A with three elements, [1, 2, 3], and type \u201cfixed[size=3, stride=8] * float64\u201d.\n",
    "\n",
    "<center>![The Array A](fig/dynd_array_of_float_type_contains_stride.svg)</center>"
   ]
  },
  {
   "cell_type": "markdown",
   "metadata": {
    "slideshow": {
     "slide_type": "subslide"
    }
   },
   "source": [
    "# Slice First Two Elements\n",
    "\n",
    "Our first slice grabs first two elements, in Python it is A[:2]. This produces an array with a new type \u201cfixed[size=2, stride=8] * float64\u201d, and points to the same data as A.\n",
    "\n",
    "<center>![A sliced first two elements](fig/dynd_array_of_float_type_contains_stride_slice_first_two.svg)</center>"
   ]
  },
  {
   "cell_type": "markdown",
   "metadata": {
    "slideshow": {
     "slide_type": "subslide"
    }
   },
   "source": [
    "# Slice Every Second Element\n",
    "\n",
    "Our second slice grabs every second element, in Python it is A[::2]. This produces an array with a new type \u201cfixed[size=2, stride=16] * float64\u201d, and points to the same data as A.\n",
    "\n",
    "<center>![A sliced first two elements](fig/dynd_array_of_float_type_contains_stride_slice_every_second.svg)</center>"
   ]
  },
  {
   "cell_type": "markdown",
   "metadata": {
    "slideshow": {
     "slide_type": "subslide"
    }
   },
   "source": [
    "# Problems With Stride In The Type\n",
    "\n",
    "By slicing different ways, we\u2019ve produced two arrays which are \u201carrays with two floats,\u201d but have different types. In NumPy, this distinction is hidden away in the strides value attached to the object, and the transparent handling of the this detail is considered a feature, not a problem. It would be nicer to just be able to say we want a \u201cfixed dimension of size 2\u201d or just a \u201cfixed dimension.\u201d\n",
    "\n",
    "DyND's usual strided arrays do not include the stride in the type. The types are spelled \"2 \\* float64\" and \"fixed \\* float64\"."
   ]
  },
  {
   "cell_type": "markdown",
   "metadata": {
    "slideshow": {
     "slide_type": "subslide"
    }
   },
   "source": [
    "# Putting The Stride In The Data\n",
    "\n",
    "The other place we had available for the stride information is with the data. There are multiple ways we could do this, but let\u2019s just consider the most obvious one, storing the stride immediately followed by the data. This means our original array looks like this:\n",
    "\n",
    "<center>![DyND Array with Stride in the Data](fig/dynd_array_of_float_data_contains_stride.svg)</center>"
   ]
  },
  {
   "cell_type": "markdown",
   "metadata": {
    "slideshow": {
     "slide_type": "subslide"
    }
   },
   "source": [
    "# Slice First Two Elements\n",
    "\n",
    "Our first slice, A[:2], still looks good. The only things that change in the diagram are the \u201cfixed[3]\u201d dimension becomes \u201cfixed[2]\u201d, and the third value in the array is ignored.\n",
    "\n",
    "<center>![A sliced first two elements](fig/dynd_array_of_float_data_contains_stride_slice_first_two.svg)</center>"
   ]
  },
  {
   "cell_type": "markdown",
   "metadata": {
    "slideshow": {
     "slide_type": "subslide"
    }
   },
   "source": [
    "# Slice Every Second Element\n",
    "\n",
    "Our second slice, however, leads to trouble. We want to view the same data, but now with a different stride. The stride must remain 8 for the original A, but needs to be 16 for the sliced A[::2], leading to the conclusion that the set of arrays viewed by this representation is not closed under slicing.\n",
    "\n",
    "<center>![A sliced every second element](fig/dynd_array_of_float_data_contains_stride_slice_every_second.svg)</center>\n",
    "\n",
    "Another trivial yet problematic case is slicing the last two elements, where the place for the stride would overlap with a value."
   ]
  },
  {
   "cell_type": "markdown",
   "metadata": {
    "slideshow": {
     "slide_type": "subslide"
    }
   },
   "source": [
    "# Where To Put The Stride?\n",
    "\n",
    "Since neither the type nor the data of the array seem like appropriate places to put the stride, we need a new location for it. Recall that in NumPy, the array object contains a dtype, a data pointer, and a few additional values including ndim, shape, and strides. We\u2019ve put ndim and shape into the type, but we\u2019re going to leave strides in the array object, creating some new space called \u201carray metadata\u201d or \u201carrmeta\u201d for short.\n",
    "\n",
    "While the exercise we just went through may feel like a triviality, it\u2019s partly an attempt to get you thinking about how various data types get laid out in memory. In this example, just placing the stride ahead of the data leads to something absurd, but there are other cases like the \u201cvar\u201d dimension type, which are structured pretty close to this."
   ]
  },
  {
   "cell_type": "markdown",
   "metadata": {
    "slideshow": {
     "slide_type": "slide"
    }
   },
   "source": [
    "# Array Metadata (Arrmeta)\n",
    "\n",
    "Every dynd type has the opportunity to store an arbitrary but fixed amount of arrmeta in the array object. This is a place to store information that doesn't really belong in the type, but is also necessary to fully describe the data the array object is pointing at.\n",
    "\n",
    "In the case of the fixed dimension type, we have chosen to store both the size and the stride of the dimension. (The size is redundant, but included for simple low-level access.) For other types, other arrmeta is needed. We\u2019re going to examine what arrmeta we should choose for a struct/record type, by thinking about some operations we want to perform on data of that type."
   ]
  },
  {
   "cell_type": "markdown",
   "metadata": {
    "slideshow": {
     "slide_type": "subslide"
    }
   },
   "source": [
    "# A DyND Struct\n",
    "\n",
    "Let\u2019s start with a simple 2D point type, with an X and a Y coordinate. In datashape, we can spell it as \u201c{X: float64, Y: float64}\u201d. If we treat it as a C/C++ struct, here\u2019s how an array A of this type looks:\n",
    "\n",
    "<center>![DyND Struct Take 1](fig/dynd_struct_take_1.svg)</center>"
   ]
  },
  {
   "cell_type": "markdown",
   "metadata": {
    "slideshow": {
     "slide_type": "subslide"
    }
   },
   "source": [
    "# Accessing A Struct Field\n",
    "\n",
    "Just like with the slicing operation we had before, we have simple operations we want to support, such as field selection. If we access field A.Y, we get\n",
    "\n",
    "<center>![A.Y](fig/dynd_struct_accessed_field_y.svg)</center>"
   ]
  },
  {
   "cell_type": "markdown",
   "metadata": {
    "slideshow": {
     "slide_type": "subslide"
    }
   },
   "source": [
    "# A More Complicated Struct\n",
    "\n",
    "A struct with only two fields isn't enough to illustrate our next operation, of selecting multiple fields. In addition to the coordinates, our data might include differentials as well, so let's add them.\n",
    "\n",
    "<center>![More Complicated Struct Take 1](fig/dynd_struct_take_1_complicated.svg)</center>"
   ]
  },
  {
   "cell_type": "markdown",
   "metadata": {
    "slideshow": {
     "slide_type": "subslide"
    }
   },
   "source": [
    "# Selecting Multiple Fields\n",
    "\n",
    "Suppose we have a function which takes values of type \u201c{X: float64, Y: float64}\u201d as a parameter, and we want to pass the X and Y coordinates from our complicated struct to that function. A natural thing to try is to select these two fields to get a new struct.\n",
    "\n",
    "<center>![More Complicated Struct Take 1](fig/dynd_struct_take_1_complicated_select_xy.svg)</center>\n",
    "\n",
    "Something went wrong here, just like when we tried to put the stride in the fixed dimension type. The values don't match a C/C++ struct anymore, the second offset can't be 8. Similarly if the offset is 16, the type is different from the type the function we have takes."
   ]
  },
  {
   "cell_type": "markdown",
   "metadata": {
    "slideshow": {
     "slide_type": "subslide"
    }
   },
   "source": [
    "# Field Offsets Are Like Array Strides\n",
    "\n",
    "Just like when we first looked at where to put the stride for the fixed dimension, we have made a choice of where to put the offsets for the struct dtype. In this case, it was quite intuitive to simply do what C/C++ does, and put those offsets in the type. This is in fact what NumPy does.\n",
    "\n",
    "This led to trouble, however, which was the exact same trouble that made us put the stride into the arrmeta. Therefore, we put these offsets in the arrmeta."
   ]
  },
  {
   "cell_type": "markdown",
   "metadata": {
    "slideshow": {
     "slide_type": "subslide"
    }
   },
   "source": [
    "# DyND Struct With Offsets In The Arrmeta\n",
    "\n",
    "Here's how it looks after we move the struct\u2019s field offsets into the arrmeta. Our data A of type \u201c{X: float64, DX: float64, Y: float64, DY: float64}\u201d looks like:\n",
    "\n",
    "<center>![DyND Struct Take 2](fig/dynd_struct_take_2.svg)</center>"
   ]
  },
  {
   "cell_type": "markdown",
   "metadata": {
    "slideshow": {
     "slide_type": "subslide"
    }
   },
   "source": [
    "# Struct Field Selection\n",
    "\n",
    "Now if we do a field selection, extracting the X and Y fields, we\u2019ll get a DyND struct whose type is \u201c{X: float64, Y: float64}\u201d, exactly as we wanted. The layout is not the same as a C/C++ struct, but views of the data are closed under field selection, just as views of strided arrays are closed under slicing. Here\u2019s the result of that field selection:\n",
    "\n",
    "<center>![Struct field selection](fig/dynd_struct_take_2_field_select_xy.svg)</center>"
   ]
  },
  {
   "cell_type": "markdown",
   "metadata": {
    "slideshow": {
     "slide_type": "slide"
    }
   },
   "source": [
    "# Nesting Arrmeta\n",
    "\n",
    "So far we\u2019ve seen two forms of arrmeta, for fixed dimensions and for structs. A natural question arises, what happens when we have arrays of structs or structs of arrays? "
   ]
  },
  {
   "cell_type": "code",
   "execution_count": null,
   "metadata": {
    "collapsed": true,
    "slideshow": {
     "slide_type": "subslide"
    }
   },
   "outputs": [],
   "source": []
  }
 ],
 "metadata": {
  "celltoolbar": "Slideshow",
  "kernelspec": {
   "display_name": "IPython (Python 3)",
   "name": "python3"
  },
  "language_info": {
   "codemirror_mode": {
    "name": "ipython",
    "version": 3
   },
   "file_extension": ".py",
   "mimetype": "text/x-python",
   "name": "python",
   "nbconvert_exporter": "python",
   "pygments_lexer": "ipython3"
  },
  "signature": "sha256:7b8e32a2fd57313fae7fabf27badb69fe151d4b1e7f1c7b070bcfd67dc89a611"
 },
 "nbformat": 4,
 "nbformat_minor": 0
}