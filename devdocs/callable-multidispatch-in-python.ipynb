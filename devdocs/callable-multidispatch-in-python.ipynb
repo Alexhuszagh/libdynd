{
 "cells": [
  {
   "cell_type": "markdown",
   "metadata": {},
   "source": [
    "# DyND Callable MultiDispatch in Python"
   ]
  },
  {
   "cell_type": "markdown",
   "metadata": {},
   "source": [
    "This is a notebook which goes with the [DyND Callable Multi-Dispatch Design](callable-multidispatch-design.md).\n",
    "It's an implementation of the described signature subset construction, with the aim to illustrate the algorithm\n",
    "clearly. We will build up an implementation in stages, starting with simple cases and gradually escalating the\n",
    "complexity to account for more of the pattern matching capabilities that DyND types have."
   ]
  },
  {
   "cell_type": "code",
   "execution_count": 1,
   "metadata": {
    "collapsed": false
   },
   "outputs": [
    {
     "name": "stdout",
     "output_type": "stream",
     "text": [
      "libdynd v0.7.2-988-g421afb1-dirty , dynd-python v0.7.2-280-g5381c8e-dirty\n"
     ]
    }
   ],
   "source": [
    "import dynd\n",
    "from dynd import nd, ndt\n",
    "from pprint import pprint\n",
    "print(\"libdynd\", dynd.__libdynd_version__, \", dynd-python\", dynd.__version__)"
   ]
  },
  {
   "cell_type": "code",
   "execution_count": 2,
   "metadata": {
    "collapsed": true
   },
   "outputs": [],
   "source": [
    "import functools\n",
    "class reprwrapper(object):\n",
    "    def __init__(self, reprstr, func):\n",
    "        self._reprstr = reprstr\n",
    "        self._func = func\n",
    "        functools.update_wrapper(self, func)\n",
    "    def __call__(self, *args, **kw):\n",
    "        return self._func(*args, **kw)\n",
    "    def __repr__(self):\n",
    "        return self._reprstr\n",
    "\n",
    "def withrepr(reprstr):\n",
    "    def _wrap(func):\n",
    "        return reprwrapper(reprstr, func)\n",
    "    return _wrap"
   ]
  },
  {
   "cell_type": "markdown",
   "metadata": {},
   "source": [
    "## Simple Scalar Signatures"
   ]
  },
  {
   "cell_type": "markdown",
   "metadata": {},
   "source": [
    "Let's start with a few scalar signatures."
   ]
  },
  {
   "cell_type": "code",
   "execution_count": 3,
   "metadata": {
    "collapsed": false
   },
   "outputs": [],
   "source": [
    "sigs = [ndt.type(\"(int8, int8) -> int8\"),\n",
    "        ndt.type(\"(int16, int16) -> int16\"),\n",
    "        ndt.type(\"(float32, float32) -> float32\")]"
   ]
  },
  {
   "cell_type": "code",
   "execution_count": 4,
   "metadata": {
    "collapsed": false
   },
   "outputs": [
    {
     "name": "stdout",
     "output_type": "stream",
     "text": [
      "[[ndt.type('int8'), ndt.type('int8')],\n",
      " [ndt.type('int16'), ndt.type('int16')],\n",
      " [ndt.type('float32'), ndt.type('float32')]]\n"
     ]
    }
   ],
   "source": [
    "sigs_working = [s.pos_types for s in sigs]; pprint(sigs_working)"
   ]
  },
  {
   "cell_type": "markdown",
   "metadata": {},
   "source": [
    "For this initial case, we don't need to track additional working state, so that's it. We do need\n",
    "a set of equations that need to be satisfied for a match. The only form of equation at this point is\n",
    "`S.TInp[i].matches(TInp[i])`, so we'll just store the `i`."
   ]
  },
  {
   "cell_type": "code",
   "execution_count": 5,
   "metadata": {
    "collapsed": true
   },
   "outputs": [],
   "source": [
    "equations = [0, 1]"
   ]
  },
  {
   "cell_type": "markdown",
   "metadata": {},
   "source": [
    "Each node of the decision tree will process an equation, either completely or partially by decomposing\n",
    "it into additional simpler equations. We're starting really simple, so that we can build up the complexity of\n",
    "the final algorithm incrementally."
   ]
  },
  {
   "cell_type": "code",
   "execution_count": 6,
   "metadata": {
    "collapsed": false
   },
   "outputs": [],
   "source": [
    "def child_edges(sigs_working, i):\n",
    "    return {sig[i].id for sig in sigs_working if sig is not None}\n",
    "\n",
    "def filter_sigs(sigs_working, i, tid):\n",
    "    return [sig if sig and sig[i].id == tid else None for sig in sigs_working]"
   ]
  },
  {
   "cell_type": "markdown",
   "metadata": {},
   "source": [
    "We're going to just process the first equation at each step. Eventually, we'll want to pick the\n",
    "equation which maximizes how quickly we shrink the set of working signatures, but we'll not do that yet."
   ]
  },
  {
   "cell_type": "code",
   "execution_count": 7,
   "metadata": {
    "collapsed": false
   },
   "outputs": [
    {
     "name": "stdout",
     "output_type": "stream",
     "text": [
      "{6: [[ndt.type('int8'), ndt.type('int8')], None, None],\n",
      " 7: [None, [ndt.type('int16'), ndt.type('int16')], None],\n",
      " 19: [None, None, [ndt.type('float32'), ndt.type('float32')]]}\n"
     ]
    }
   ],
   "source": [
    "edges = {tid: filter_sigs(sigs_working, equations[0], tid)\n",
    "         for tid in child_edges(sigs_working, equations[0])}\n",
    "pprint(edges)"
   ]
  },
  {
   "cell_type": "markdown",
   "metadata": {},
   "source": [
    "This gave us a decision tree node which looks at the type id of argument zero. We now need to recursively apply\n",
    "what we just did to every outgoing edge of of the node to complete the tree."
   ]
  },
  {
   "cell_type": "code",
   "execution_count": 8,
   "metadata": {
    "collapsed": false
   },
   "outputs": [],
   "source": [
    "def build_decision_tree_node(sigs_working, equations):\n",
    "    if equations:\n",
    "        # For now, always processing the first equation\n",
    "        i, equations = equations[0], equations[1:]\n",
    "        # Each equation generates a candidate decision tree node\n",
    "        edges = {tid: filter_sigs(sigs_working, i, tid)\n",
    "                 for tid in child_edges(sigs_working, i)}\n",
    "        # Build the child nodes recursively\n",
    "        return ('typeid', i, {tid: build_decision_tree_node(edges[tid], equations)\n",
    "                              for tid in edges})\n",
    "    else:\n",
    "        # When there are no equations left, the arguments are fully matched\n",
    "        results = [i for (i, sig) in enumerate(sigs_working) if sig is not None]\n",
    "        if len(results) == 1:\n",
    "            return ('match', results[0])\n",
    "        elif(results):\n",
    "            return ('ambiguous', results)\n",
    "        else:\n",
    "            return ('nomatch')\n",
    "\n",
    "def build_decision_tree(sigs):\n",
    "    sigs_working = [s.pos_types for s in sigs]\n",
    "    equations = list(range(len(sigs_working[0])))\n",
    "    return build_decision_tree_node(sigs_working, equations)"
   ]
  },
  {
   "cell_type": "code",
   "execution_count": 9,
   "metadata": {
    "collapsed": false
   },
   "outputs": [
    {
     "name": "stdout",
     "output_type": "stream",
     "text": [
      "('typeid',\n",
      " 0,\n",
      " {6: ('typeid', 1, {6: ('match', 0)}),\n",
      "  7: ('typeid', 1, {7: ('match', 1)}),\n",
      "  19: ('typeid', 1, {19: ('match', 2)})})\n"
     ]
    }
   ],
   "source": [
    "pprint(build_decision_tree(sigs))"
   ]
  },
  {
   "cell_type": "markdown",
   "metadata": {},
   "source": [
    "The final thing we want to do is convert the decision tree into some bytecode that can be executed quickly.\n",
    "We'll model the bytecode as a list of functions that modify a simple machine state."
   ]
  },
  {
   "cell_type": "code",
   "execution_count": 10,
   "metadata": {
    "collapsed": false
   },
   "outputs": [],
   "source": [
    "class MachineResult(Exception):\n",
    "    def __init__(self, result):\n",
    "        self.result = result\n",
    "\n",
    "class MachineState:\n",
    "    def __init__(self, tinp):\n",
    "        self.tinp = tinp\n",
    "    def run(self, instr):\n",
    "        try:\n",
    "            i = 0;\n",
    "            while True:\n",
    "                i = instr[i](self)\n",
    "        except MachineResult as e:\n",
    "            return e.result\n",
    "\n",
    "def build_machine(decision_tree, instr=None):\n",
    "    if instr is None:\n",
    "        instr = []\n",
    "        build_machine(decision_tree, instr)\n",
    "        return instr\n",
    "    i = len(instr)\n",
    "    if(decision_tree[0] == 'match'):\n",
    "        @withrepr('L%d <return match %d>' % (i, decision_tree[1]))\n",
    "        def _match(state):\n",
    "            raise MachineResult(decision_tree[1])\n",
    "        instr.append(_match)\n",
    "    elif(decision_tree[0] == 'ambiguous'):\n",
    "        @withrepr('L%d <raise ambiguous %r>' % (i, decision_tree[1]))\n",
    "        def _ambiguous(state):\n",
    "            raise Exception('Ambiguous matches %s' % decision_tree[1])\n",
    "        instr.append(_ambiguous)\n",
    "    elif(decision_tree[0] == 'nomatch'):\n",
    "        @withrepr('L%d <raise nomatch>' % (i,))\n",
    "        def _nomatch(state):\n",
    "            raise Exception('No match found')\n",
    "        instr.append(_nomatch)\n",
    "    elif(decision_tree[0] == 'typeid'):\n",
    "        instr.append(None)\n",
    "        nextinstr = {tid: build_machine(decision_tree[2][tid], instr)\n",
    "                     for tid in sorted(decision_tree[2])}\n",
    "        @withrepr('L%d <switch typeid[%d] goto {%s}>' %\n",
    "                  (i, decision_tree[1], ', '.join('%d: L%d' % (k, nextinstr[k]) for k in sorted(nextinstr))))\n",
    "        def _typeid(state):\n",
    "            tid = state.tinp[decision_tree[1]].id\n",
    "            if not tid in nextinstr:\n",
    "                raise Exception('No match found')\n",
    "            else:\n",
    "                return nextinstr[tid]\n",
    "        instr[i] = _typeid\n",
    "    return i"
   ]
  },
  {
   "cell_type": "code",
   "execution_count": 11,
   "metadata": {
    "collapsed": false
   },
   "outputs": [
    {
     "name": "stdout",
     "output_type": "stream",
     "text": [
      "[L0 <switch typeid[0] goto {6: L1, 7: L3, 19: L5}>,\n",
      " L1 <switch typeid[1] goto {6: L2}>,\n",
      " L2 <return match 0>,\n",
      " L3 <switch typeid[1] goto {7: L4}>,\n",
      " L4 <return match 1>,\n",
      " L5 <switch typeid[1] goto {19: L6}>,\n",
      " L6 <return match 2>]\n"
     ]
    }
   ],
   "source": [
    "instr = build_machine(build_decision_tree(sigs)); pprint(instr)"
   ]
  },
  {
   "cell_type": "markdown",
   "metadata": {},
   "source": [
    "Now we can run run these instructions on a few different matching and non-matching argument types."
   ]
  },
  {
   "cell_type": "code",
   "execution_count": 12,
   "metadata": {
    "collapsed": false
   },
   "outputs": [
    {
     "data": {
      "text/plain": [
       "0"
      ]
     },
     "execution_count": 12,
     "metadata": {},
     "output_type": "execute_result"
    }
   ],
   "source": [
    "MachineState([ndt.int8, ndt.int8]).run(instr)"
   ]
  },
  {
   "cell_type": "code",
   "execution_count": 13,
   "metadata": {
    "collapsed": false
   },
   "outputs": [
    {
     "data": {
      "text/plain": [
       "2"
      ]
     },
     "execution_count": 13,
     "metadata": {},
     "output_type": "execute_result"
    }
   ],
   "source": [
    "MachineState([ndt.float32, ndt.float32]).run(instr)"
   ]
  },
  {
   "cell_type": "code",
   "execution_count": 14,
   "metadata": {
    "collapsed": false
   },
   "outputs": [
    {
     "ename": "Exception",
     "evalue": "No match found",
     "output_type": "error",
     "traceback": [
      "\u001b[1;31m---------------------------------------------------------------------------\u001b[0m",
      "\u001b[1;31mException\u001b[0m                                 Traceback (most recent call last)",
      "\u001b[1;32m<ipython-input-14-980ea5d8b04a>\u001b[0m in \u001b[0;36m<module>\u001b[1;34m()\u001b[0m\n\u001b[1;32m----> 1\u001b[1;33m \u001b[0mMachineState\u001b[0m\u001b[1;33m(\u001b[0m\u001b[1;33m[\u001b[0m\u001b[0mndt\u001b[0m\u001b[1;33m.\u001b[0m\u001b[0mint32\u001b[0m\u001b[1;33m,\u001b[0m \u001b[0mndt\u001b[0m\u001b[1;33m.\u001b[0m\u001b[0mint32\u001b[0m\u001b[1;33m]\u001b[0m\u001b[1;33m)\u001b[0m\u001b[1;33m.\u001b[0m\u001b[0mrun\u001b[0m\u001b[1;33m(\u001b[0m\u001b[0minstr\u001b[0m\u001b[1;33m)\u001b[0m\u001b[1;33m\u001b[0m\u001b[0m\n\u001b[0m",
      "\u001b[1;32m<ipython-input-10-cf81b5bffe26>\u001b[0m in \u001b[0;36mrun\u001b[1;34m(self, instr)\u001b[0m\n\u001b[0;32m     10\u001b[0m             \u001b[0mi\u001b[0m \u001b[1;33m=\u001b[0m \u001b[1;36m0\u001b[0m\u001b[1;33m;\u001b[0m\u001b[1;33m\u001b[0m\u001b[0m\n\u001b[0;32m     11\u001b[0m             \u001b[1;32mwhile\u001b[0m \u001b[1;32mTrue\u001b[0m\u001b[1;33m:\u001b[0m\u001b[1;33m\u001b[0m\u001b[0m\n\u001b[1;32m---> 12\u001b[1;33m                 \u001b[0mi\u001b[0m \u001b[1;33m=\u001b[0m \u001b[0minstr\u001b[0m\u001b[1;33m[\u001b[0m\u001b[0mi\u001b[0m\u001b[1;33m]\u001b[0m\u001b[1;33m(\u001b[0m\u001b[0mself\u001b[0m\u001b[1;33m)\u001b[0m\u001b[1;33m\u001b[0m\u001b[0m\n\u001b[0m\u001b[0;32m     13\u001b[0m         \u001b[1;32mexcept\u001b[0m \u001b[0mMachineResult\u001b[0m \u001b[1;32mas\u001b[0m \u001b[0me\u001b[0m\u001b[1;33m:\u001b[0m\u001b[1;33m\u001b[0m\u001b[0m\n\u001b[0;32m     14\u001b[0m             \u001b[1;32mreturn\u001b[0m \u001b[0me\u001b[0m\u001b[1;33m.\u001b[0m\u001b[0mresult\u001b[0m\u001b[1;33m\u001b[0m\u001b[0m\n",
      "\u001b[1;32m<ipython-input-2-d0c5ed9edf8f>\u001b[0m in \u001b[0;36m__call__\u001b[1;34m(self, *args, **kw)\u001b[0m\n\u001b[0;32m      6\u001b[0m         \u001b[0mfunctools\u001b[0m\u001b[1;33m.\u001b[0m\u001b[0mupdate_wrapper\u001b[0m\u001b[1;33m(\u001b[0m\u001b[0mself\u001b[0m\u001b[1;33m,\u001b[0m \u001b[0mfunc\u001b[0m\u001b[1;33m)\u001b[0m\u001b[1;33m\u001b[0m\u001b[0m\n\u001b[0;32m      7\u001b[0m     \u001b[1;32mdef\u001b[0m \u001b[0m__call__\u001b[0m\u001b[1;33m(\u001b[0m\u001b[0mself\u001b[0m\u001b[1;33m,\u001b[0m \u001b[1;33m*\u001b[0m\u001b[0margs\u001b[0m\u001b[1;33m,\u001b[0m \u001b[1;33m**\u001b[0m\u001b[0mkw\u001b[0m\u001b[1;33m)\u001b[0m\u001b[1;33m:\u001b[0m\u001b[1;33m\u001b[0m\u001b[0m\n\u001b[1;32m----> 8\u001b[1;33m         \u001b[1;32mreturn\u001b[0m \u001b[0mself\u001b[0m\u001b[1;33m.\u001b[0m\u001b[0m_func\u001b[0m\u001b[1;33m(\u001b[0m\u001b[1;33m*\u001b[0m\u001b[0margs\u001b[0m\u001b[1;33m,\u001b[0m \u001b[1;33m**\u001b[0m\u001b[0mkw\u001b[0m\u001b[1;33m)\u001b[0m\u001b[1;33m\u001b[0m\u001b[0m\n\u001b[0m\u001b[0;32m      9\u001b[0m     \u001b[1;32mdef\u001b[0m \u001b[0m__repr__\u001b[0m\u001b[1;33m(\u001b[0m\u001b[0mself\u001b[0m\u001b[1;33m)\u001b[0m\u001b[1;33m:\u001b[0m\u001b[1;33m\u001b[0m\u001b[0m\n\u001b[0;32m     10\u001b[0m         \u001b[1;32mreturn\u001b[0m \u001b[0mself\u001b[0m\u001b[1;33m.\u001b[0m\u001b[0m_reprstr\u001b[0m\u001b[1;33m\u001b[0m\u001b[0m\n",
      "\u001b[1;32m<ipython-input-10-cf81b5bffe26>\u001b[0m in \u001b[0;36m_typeid\u001b[1;34m(state)\u001b[0m\n\u001b[0;32m     44\u001b[0m             \u001b[0mtid\u001b[0m \u001b[1;33m=\u001b[0m \u001b[0mstate\u001b[0m\u001b[1;33m.\u001b[0m\u001b[0mtinp\u001b[0m\u001b[1;33m[\u001b[0m\u001b[0mdecision_tree\u001b[0m\u001b[1;33m[\u001b[0m\u001b[1;36m1\u001b[0m\u001b[1;33m]\u001b[0m\u001b[1;33m]\u001b[0m\u001b[1;33m.\u001b[0m\u001b[0mid\u001b[0m\u001b[1;33m\u001b[0m\u001b[0m\n\u001b[0;32m     45\u001b[0m             \u001b[1;32mif\u001b[0m \u001b[1;32mnot\u001b[0m \u001b[0mtid\u001b[0m \u001b[1;32min\u001b[0m \u001b[0mnextinstr\u001b[0m\u001b[1;33m:\u001b[0m\u001b[1;33m\u001b[0m\u001b[0m\n\u001b[1;32m---> 46\u001b[1;33m                 \u001b[1;32mraise\u001b[0m \u001b[0mException\u001b[0m\u001b[1;33m(\u001b[0m\u001b[1;34m'No match found'\u001b[0m\u001b[1;33m)\u001b[0m\u001b[1;33m\u001b[0m\u001b[0m\n\u001b[0m\u001b[0;32m     47\u001b[0m             \u001b[1;32melse\u001b[0m\u001b[1;33m:\u001b[0m\u001b[1;33m\u001b[0m\u001b[0m\n\u001b[0;32m     48\u001b[0m                 \u001b[1;32mreturn\u001b[0m \u001b[0mnextinstr\u001b[0m\u001b[1;33m[\u001b[0m\u001b[0mtid\u001b[0m\u001b[1;33m]\u001b[0m\u001b[1;33m\u001b[0m\u001b[0m\n",
      "\u001b[1;31mException\u001b[0m: No match found"
     ]
    }
   ],
   "source": [
    "MachineState([ndt.int32, ndt.int32]).run(instr)"
   ]
  },
  {
   "cell_type": "markdown",
   "metadata": {},
   "source": [
    "What we've created already works pretty well for simple scalar signatures, let's give the one we used a slight twist."
   ]
  },
  {
   "cell_type": "code",
   "execution_count": 15,
   "metadata": {
    "collapsed": false
   },
   "outputs": [
    {
     "name": "stdout",
     "output_type": "stream",
     "text": [
      "[L0 <switch typeid[0] goto {6: L1, 7: L3, 19: L6}>,\n",
      " L1 <switch typeid[1] goto {6: L2}>,\n",
      " L2 <return match 0>,\n",
      " L3 <switch typeid[1] goto {7: L4, 19: L5}>,\n",
      " L4 <return match 1>,\n",
      " L5 <return match 3>,\n",
      " L6 <switch typeid[1] goto {19: L7}>,\n",
      " L7 <return match 2>]\n"
     ]
    }
   ],
   "source": [
    "sigs2 = [ndt.type(\"(int8, int8) -> int8\"),\n",
    "         ndt.type(\"(int16, int16) -> int16\"),\n",
    "         ndt.type(\"(float32, float32) -> float32\"),\n",
    "         ndt.type(\"(int16, float32) -> float32\")]\n",
    "instr = build_machine(build_decision_tree(sigs2)); pprint(instr)"
   ]
  },
  {
   "cell_type": "markdown",
   "metadata": {},
   "source": [
    "This results in a slightly modified decision tree and machine, that has a branch at the second level if the\n",
    "first argument was `int16`."
   ]
  },
  {
   "cell_type": "markdown",
   "metadata": {},
   "source": [
    "## Signatures With Type Variables"
   ]
  },
  {
   "cell_type": "markdown",
   "metadata": {},
   "source": [
    "While it's maybe nice to hone in on specific signatures quickly with the described machine, DyND\n",
    "callable signatures include more complicated matching abilities via type variables, dimensions,\n",
    "and other types with type parameters. We're going to start with just adding two signatures\n",
    "including type variables, which will require some type substitution and eliminating signatures via\n",
    "the `matches` partial ordering.\n",
    "\n",
    "The machine we've built to execute matching began with just the state `tinp`, consisting of the\n",
    "argument input types. We're going to change our `sigs_working` data from just consisting of a list\n",
    "of the signature argument types that correspond to `tinp` into a list of objects modeling the machine\n",
    "state. Both our machine state and the symbolic model of it will gain a new `twork` list, which\n",
    "is where types, typically components of an equation being processed, are placed to generate new\n",
    "equations."
   ]
  },
  {
   "cell_type": "code",
   "execution_count": 16,
   "metadata": {
    "collapsed": true
   },
   "outputs": [],
   "source": [
    "sigs3 = [ndt.type(\"(int8, int8) -> int8\"),\n",
    "         ndt.type(\"(int16, int16) -> int16\"),\n",
    "         ndt.type(\"(float32, float32) -> float32\"),\n",
    "         ndt.type(\"(int16, float32) -> float32\"),\n",
    "         ndt.type(\"(T, T) -> T\"),\n",
    "         ndt.type(\"(S, T) -> T\")]"
   ]
  },
  {
   "cell_type": "code",
   "execution_count": 17,
   "metadata": {
    "collapsed": false
   },
   "outputs": [
    {
     "data": {
      "image/svg+xml": [
       "<?xml version=\"1.0\" encoding=\"UTF-8\" standalone=\"no\"?>\r\n",
       "<!DOCTYPE svg PUBLIC \"-//W3C//DTD SVG 1.1//EN\"\r\n",
       " \"http://www.w3.org/Graphics/SVG/1.1/DTD/svg11.dtd\">\r\n",
       "<!-- Generated by graphviz version 2.38.0 (20140413.2041)\r\n",
       " -->\r\n",
       "<!-- Title: %3 Pages: 1 -->\r\n",
       "<svg width=\"605pt\" height=\"188pt\"\r\n",
       " viewBox=\"0.00 0.00 605.23 188.00\" xmlns=\"http://www.w3.org/2000/svg\" xmlns:xlink=\"http://www.w3.org/1999/xlink\">\r\n",
       "<g id=\"graph0\" class=\"graph\" transform=\"scale(1 1) rotate(0) translate(4 184)\">\r\n",
       "<title>%3</title>\r\n",
       "<polygon fill=\"white\" stroke=\"none\" points=\"-4,4 -4,-184 601.231,-184 601.231,4 -4,4\"/>\r\n",
       "<!-- 0 -->\r\n",
       "<g id=\"node1\" class=\"node\"><title>0</title>\r\n",
       "<ellipse fill=\"none\" stroke=\"black\" cx=\"95.0409\" cy=\"-18\" rx=\"74.187\" ry=\"18\"/>\r\n",
       "<text text-anchor=\"middle\" x=\"95.0409\" y=\"-14.3\" font-family=\"Times New Roman,serif\" font-size=\"14.00\">(int8, int8) &#45;&gt; int8</text>\r\n",
       "</g>\r\n",
       "<!-- 1 -->\r\n",
       "<g id=\"node2\" class=\"node\"><title>1</title>\r\n",
       "<ellipse fill=\"none\" stroke=\"black\" cx=\"274.041\" cy=\"-18\" rx=\"87.1846\" ry=\"18\"/>\r\n",
       "<text text-anchor=\"middle\" x=\"274.041\" y=\"-14.3\" font-family=\"Times New Roman,serif\" font-size=\"14.00\">(int16, int16) &#45;&gt; int16</text>\r\n",
       "</g>\r\n",
       "<!-- 2 -->\r\n",
       "<g id=\"node3\" class=\"node\"><title>2</title>\r\n",
       "<ellipse fill=\"none\" stroke=\"black\" cx=\"488.041\" cy=\"-18\" rx=\"109.381\" ry=\"18\"/>\r\n",
       "<text text-anchor=\"middle\" x=\"488.041\" y=\"-14.3\" font-family=\"Times New Roman,serif\" font-size=\"14.00\">(float32, float32) &#45;&gt; float32</text>\r\n",
       "</g>\r\n",
       "<!-- 3 -->\r\n",
       "<g id=\"node4\" class=\"node\"><title>3</title>\r\n",
       "<ellipse fill=\"none\" stroke=\"black\" cx=\"102.041\" cy=\"-90\" rx=\"102.082\" ry=\"18\"/>\r\n",
       "<text text-anchor=\"middle\" x=\"102.041\" y=\"-86.3\" font-family=\"Times New Roman,serif\" font-size=\"14.00\">(int16, float32) &#45;&gt; float32</text>\r\n",
       "</g>\r\n",
       "<!-- 4 -->\r\n",
       "<g id=\"node5\" class=\"node\"><title>4</title>\r\n",
       "<ellipse fill=\"none\" stroke=\"black\" cx=\"274.041\" cy=\"-90\" rx=\"51.9908\" ry=\"18\"/>\r\n",
       "<text text-anchor=\"middle\" x=\"274.041\" y=\"-86.3\" font-family=\"Times New Roman,serif\" font-size=\"14.00\">(T, T) &#45;&gt; T</text>\r\n",
       "</g>\r\n",
       "<!-- 4&#45;&gt;0 -->\r\n",
       "<g id=\"edge1\" class=\"edge\"><title>4&#45;&gt;0</title>\r\n",
       "<path fill=\"none\" stroke=\"black\" d=\"M240.792,-75.9976C212.938,-65.1049 172.859,-49.4317 141.777,-37.2765\"/>\r\n",
       "<polygon fill=\"black\" stroke=\"black\" points=\"143.031,-34.0088 132.443,-33.6263 140.481,-40.5281 143.031,-34.0088\"/>\r\n",
       "</g>\r\n",
       "<!-- 4&#45;&gt;1 -->\r\n",
       "<g id=\"edge2\" class=\"edge\"><title>4&#45;&gt;1</title>\r\n",
       "<path fill=\"none\" stroke=\"black\" d=\"M274.041,-71.6966C274.041,-63.9827 274.041,-54.7125 274.041,-46.1124\"/>\r\n",
       "<polygon fill=\"black\" stroke=\"black\" points=\"277.541,-46.1043 274.041,-36.1043 270.541,-46.1044 277.541,-46.1043\"/>\r\n",
       "</g>\r\n",
       "<!-- 4&#45;&gt;2 -->\r\n",
       "<g id=\"edge3\" class=\"edge\"><title>4&#45;&gt;2</title>\r\n",
       "<path fill=\"none\" stroke=\"black\" d=\"M310.829,-76.9666C343.958,-66.1298 393.166,-50.0339 431.327,-37.5511\"/>\r\n",
       "<polygon fill=\"black\" stroke=\"black\" points=\"432.858,-40.7331 441.274,-34.2976 430.681,-34.08 432.858,-40.7331\"/>\r\n",
       "</g>\r\n",
       "<!-- 5 -->\r\n",
       "<g id=\"node6\" class=\"node\"><title>5</title>\r\n",
       "<ellipse fill=\"none\" stroke=\"black\" cx=\"188.041\" cy=\"-162\" rx=\"51.9908\" ry=\"18\"/>\r\n",
       "<text text-anchor=\"middle\" x=\"188.041\" y=\"-158.3\" font-family=\"Times New Roman,serif\" font-size=\"14.00\">(S, T) &#45;&gt; T</text>\r\n",
       "</g>\r\n",
       "<!-- 5&#45;&gt;3 -->\r\n",
       "<g id=\"edge4\" class=\"edge\"><title>5&#45;&gt;3</title>\r\n",
       "<path fill=\"none\" stroke=\"black\" d=\"M168.526,-145.116C157.306,-135.983 143.008,-124.346 130.549,-114.204\"/>\r\n",
       "<polygon fill=\"black\" stroke=\"black\" points=\"132.643,-111.396 122.678,-107.797 128.224,-116.825 132.643,-111.396\"/>\r\n",
       "</g>\r\n",
       "<!-- 5&#45;&gt;4 -->\r\n",
       "<g id=\"edge5\" class=\"edge\"><title>5&#45;&gt;4</title>\r\n",
       "<path fill=\"none\" stroke=\"black\" d=\"M207.556,-145.116C219.101,-135.718 233.905,-123.669 246.612,-113.326\"/>\r\n",
       "<polygon fill=\"black\" stroke=\"black\" points=\"249.057,-115.848 254.603,-106.821 244.638,-110.419 249.057,-115.848\"/>\r\n",
       "</g>\r\n",
       "</g>\r\n",
       "</svg>\r\n"
      ],
      "text/plain": [
       "<graphviz.dot.Digraph at 0x20030333be0>"
      ]
     },
     "execution_count": 17,
     "metadata": {},
     "output_type": "execute_result"
    }
   ],
   "source": [
    "# NOTE: http://stackoverflow.com/questions/33433274/anaconda-graphviz-cant-import-after-installation\n",
    "# To install graphviz, you need both of the following:\n",
    "# > conda install graphviz\n",
    "# > pip install graphviz\n",
    "import graphviz\n",
    "def plot_matches_graph(sigs):\n",
    "    dot = graphviz.Digraph()\n",
    "    for i, node in enumerate(sigs):\n",
    "        dot.node(str(i), str(node))\n",
    "    for i, inode in enumerate(sigs):\n",
    "        for j, jnode in enumerate(sigs[i+1:], start=i+1):\n",
    "            if inode.match(jnode):\n",
    "                # Remove redundant edges\n",
    "                if not any(inode.match(tp) and tp.match(jnode)\n",
    "                           for tp in sigs if tp != inode and tp != jnode):\n",
    "                    dot.edge(str(i), str(j))\n",
    "            elif jnode.match(inode):\n",
    "                # Remove redundant edges\n",
    "                if not any(jnode.match(tp) and tp.match(inode)\n",
    "                           for tp in sigs if tp != inode and tp != jnode):\n",
    "                    dot.edge(str(j), str(i))\n",
    "    return dot\n",
    "\n",
    "plot_matches_graph(sigs3)"
   ]
  },
  {
   "cell_type": "markdown",
   "metadata": {},
   "source": [
    "Let's start by modifying our signature filtering to account for the type variables. We'll do this\n",
    "in a limited way by allowing type variables to match against anything."
   ]
  },
  {
   "cell_type": "code",
   "execution_count": 18,
   "metadata": {
    "collapsed": true
   },
   "outputs": [],
   "source": [
    "TYPEVAR_ID = ndt.type('T').id\n",
    "\n",
    "def filter_sigs(sigs_working, i, tid):\n",
    "    return [sig if sig and (sig[i].id == tid or sig[i].id == TYPEVAR_ID) else None for sig in sigs_working]"
   ]
  },
  {
   "cell_type": "code",
   "execution_count": 19,
   "metadata": {
    "collapsed": false
   },
   "outputs": [
    {
     "name": "stdout",
     "output_type": "stream",
     "text": [
      "[ndt.type('(int8, int8) -> int8'),\n",
      " ndt.type('(int16, int16) -> int16'),\n",
      " ndt.type('(float32, float32) -> float32'),\n",
      " ndt.type('(int16, float32) -> float32'),\n",
      " ndt.type('(T, T) -> T'),\n",
      " ndt.type('(S, T) -> T')]\n",
      "('typeid',\n",
      " 0,\n",
      " {6: ('typeid', 1, {6: ('ambiguous', [0, 4, 5]), 54: ('ambiguous', [4, 5])}),\n",
      "  7: ('typeid',\n",
      "      1,\n",
      "      {7: ('ambiguous', [1, 4, 5]),\n",
      "       19: ('ambiguous', [3, 4, 5]),\n",
      "       54: ('ambiguous', [4, 5])}),\n",
      "  19: ('typeid', 1, {19: ('ambiguous', [2, 4, 5]), 54: ('ambiguous', [4, 5])}),\n",
      "  54: ('typeid', 1, {54: ('ambiguous', [4, 5])})})\n"
     ]
    }
   ],
   "source": [
    "pprint(sigs3)\n",
    "pprint(build_decision_tree(sigs3))"
   ]
  },
  {
   "cell_type": "code",
   "execution_count": 20,
   "metadata": {
    "collapsed": false
   },
   "outputs": [
    {
     "name": "stdout",
     "output_type": "stream",
     "text": [
      "[L0 <switch typeid[0] goto {6: L1, 7: L4, 19: L8, 54: L11}>,\n",
      " L1 <switch typeid[1] goto {6: L2, 54: L3}>,\n",
      " L2 <raise ambiguous [0, 4, 5]>,\n",
      " L3 <raise ambiguous [4, 5]>,\n",
      " L4 <switch typeid[1] goto {7: L5, 19: L6, 54: L7}>,\n",
      " L5 <raise ambiguous [1, 4, 5]>,\n",
      " L6 <raise ambiguous [3, 4, 5]>,\n",
      " L7 <raise ambiguous [4, 5]>,\n",
      " L8 <switch typeid[1] goto {19: L9, 54: L10}>,\n",
      " L9 <raise ambiguous [2, 4, 5]>,\n",
      " L10 <raise ambiguous [4, 5]>,\n",
      " L11 <switch typeid[1] goto {54: L12}>,\n",
      " L12 <raise ambiguous [4, 5]>]\n"
     ]
    }
   ],
   "source": [
    "pprint(build_machine(build_decision_tree(sigs3)))"
   ]
  },
  {
   "cell_type": "markdown",
   "metadata": {},
   "source": [
    "There are two effects missing in the filtering of signature subsets here. First is that\n",
    "the `(T, T) -> T` signature (number 4) is not being filtered out when the two argument\n",
    "types differ, as they are guaranteed to for argument types `(int16, float32)`. This case\n",
    "ends up at line `L6`, where 4 should not be included in the remaining signatures. Second\n",
    "is also visible in the same line, because signature 3 is an exact match, and therefore\n",
    "more specific than signature 5. All signatures which are strictly less specific than\n",
    "another match should be excluded. Putting these two effects together results in the\n",
    "unambiguous result of signature 3 at line `L6`.\n",
    "\n",
    "To deal with the first effect, we'll add a substitution step to the filtering. When we\n",
    "filter the signature `(T, T) -> T` according to a type id that fully determines the type,\n",
    "we can simply substitute that type into the rest of the signature. For example when we\n",
    "filter with `int16` for the first argument type, a substitution will produce the signature\n",
    "`(int16, int16) -> int16` after the filtering."
   ]
  },
  {
   "cell_type": "code",
   "execution_count": 21,
   "metadata": {
    "collapsed": true
   },
   "outputs": [],
   "source": [
    "tid2type = {tp.id: tp for tp in [ndt.int8, ndt.int16, ndt.int32, ndt.float32]}\n",
    "\n",
    "def filter_sigs(sigs_working, i, tid):\n",
    "    result = []\n",
    "    for sig in sigs_working:\n",
    "        if sig and sig[i].id == tid:\n",
    "            result.append(sig)\n",
    "        elif sig and sig[i].id == TYPEVAR_ID:\n",
    "            result.append([tp.substitute(**{sig[i].name: tid2type[tid]}) for tp in sig])\n",
    "        else:\n",
    "            result.append(None)\n",
    "    return result"
   ]
  },
  {
   "cell_type": "code",
   "execution_count": 22,
   "metadata": {
    "collapsed": false
   },
   "outputs": [
    {
     "name": "stdout",
     "output_type": "stream",
     "text": [
      "[L0 <switch typeid[0] goto {6: L1, 7: L4, 19: L8, 54: L11}>,\n",
      " L1 <switch typeid[1] goto {6: L2, 54: L3}>,\n",
      " L2 <raise ambiguous [0, 4, 5]>,\n",
      " L3 <return match 5>,\n",
      " L4 <switch typeid[1] goto {7: L5, 19: L6, 54: L7}>,\n",
      " L5 <raise ambiguous [1, 4, 5]>,\n",
      " L6 <raise ambiguous [3, 5]>,\n",
      " L7 <return match 5>,\n",
      " L8 <switch typeid[1] goto {19: L9, 54: L10}>,\n",
      " L9 <raise ambiguous [2, 4, 5]>,\n",
      " L10 <return match 5>,\n",
      " L11 <switch typeid[1] goto {54: L12}>,\n",
      " L12 <raise ambiguous [4, 5]>]\n"
     ]
    }
   ],
   "source": [
    "pprint(build_machine(build_decision_tree(sigs3)))"
   ]
  },
  {
   "cell_type": "markdown",
   "metadata": {
    "collapsed": true
   },
   "source": [
    "Looking at line `L6`, we can now see that signature 4 is no longer included. We've only dealt with half of this issue, as the machine still cannot distinguish between signatures 4 and five at line `L12`.\n",
    "\n",
    "To deal with the second effect, we'll add a final filtering step in the leaf nodes of the\n",
    "decision tree. When we get to a leaf node, we know that all the remaining signatures are\n",
    "matches, so we can do a pass through them to eliminate any signature for which there is a\n",
    "more specific one. A twist here though is that since `sigs_working` might have type substitutions\n",
    "in it, we can't use it to do this filtering, instead we need to keep around the original\n",
    "signatures. The ordering also must be just from the positional argument types, not\n",
    "including the return type, because the multiple dispatch just depends on those."
   ]
  },
  {
   "cell_type": "code",
   "execution_count": 43,
   "metadata": {
    "collapsed": true
   },
   "outputs": [],
   "source": [
    "def build_decision_tree_node(sigs, sigs_working, equations):\n",
    "    if equations:\n",
    "        # For now, always processing the first equation\n",
    "        i, equations = equations[0], equations[1:]\n",
    "        # Each equation generates a candidate decision tree node\n",
    "        edges = {tid: filter_sigs(sigs_working, i, tid)\n",
    "                 for tid in child_edges(sigs_working, i)}\n",
    "        # Build the child nodes recursively\n",
    "        return ('typeid', i, {tid: build_decision_tree_node(sigs, edges[tid], equations)\n",
    "                              for tid in edges})\n",
    "    else:\n",
    "        # When there are no equations left, the arguments are fully matched\n",
    "        result = [i for (i, sig) in enumerate(sigs_working) if sig is not None]\n",
    "        # Keep only signatures that are more specific than or independent of all the other signatures\n",
    "        result = [i for i in result\n",
    "                  if all(not ndt.make_tuple(sigs[i].pos_types).match(ndt.make_tuple(sigs[j].pos_types))\n",
    "                         for j in result if j != i)]\n",
    "        if len(result) == 1:\n",
    "            return ('match', result[0])\n",
    "        elif(result):\n",
    "            return ('ambiguous', result)\n",
    "        else:\n",
    "            return ('nomatch')\n",
    "        \n",
    "def build_decision_tree(sigs):\n",
    "    sigs_working = [s.pos_types for s in sigs]\n",
    "    equations = list(range(len(sigs_working[0])))\n",
    "    return build_decision_tree_node(sigs, sigs_working, equations)"
   ]
  },
  {
   "cell_type": "code",
   "execution_count": 45,
   "metadata": {
    "collapsed": false
   },
   "outputs": [
    {
     "name": "stdout",
     "output_type": "stream",
     "text": [
      "[L0 <switch typeid[0] goto {6: L1, 7: L4, 19: L8, 54: L11}>,\n",
      " L1 <switch typeid[1] goto {6: L2, 54: L3}>,\n",
      " L2 <return match 0>,\n",
      " L3 <return match 5>,\n",
      " L4 <switch typeid[1] goto {7: L5, 19: L6, 54: L7}>,\n",
      " L5 <return match 1>,\n",
      " L6 <return match 3>,\n",
      " L7 <return match 5>,\n",
      " L8 <switch typeid[1] goto {19: L9, 54: L10}>,\n",
      " L9 <return match 2>,\n",
      " L10 <return match 5>,\n",
      " L11 <switch typeid[1] goto {54: L12}>,\n",
      " L12 <return match 4>]\n"
     ]
    }
   ],
   "source": [
    "instr = build_machine(build_decision_tree(sigs3)); pprint(instr)"
   ]
  },
  {
   "cell_type": "code",
   "execution_count": 46,
   "metadata": {
    "collapsed": false
   },
   "outputs": [
    {
     "data": {
      "text/plain": [
       "0"
      ]
     },
     "execution_count": 46,
     "metadata": {},
     "output_type": "execute_result"
    }
   ],
   "source": [
    "MachineState([ndt.int8, ndt.int8]).run(instr)"
   ]
  },
  {
   "cell_type": "code",
   "execution_count": 48,
   "metadata": {
    "collapsed": false
   },
   "outputs": [
    {
     "data": {
      "text/plain": [
       "3"
      ]
     },
     "execution_count": 48,
     "metadata": {},
     "output_type": "execute_result"
    }
   ],
   "source": [
    "MachineState([ndt.int16, ndt.float32]).run(instr)"
   ]
  },
  {
   "cell_type": "markdown",
   "metadata": {},
   "source": [
    "This has restored the correct specific answers for all the concrete signatures, but things are still going\n",
    "awry for argument types that would match against the symbolic types."
   ]
  },
  {
   "cell_type": "code",
   "execution_count": 50,
   "metadata": {
    "collapsed": false
   },
   "outputs": [
    {
     "ename": "Exception",
     "evalue": "No match found",
     "output_type": "error",
     "traceback": [
      "\u001b[1;31m---------------------------------------------------------------------------\u001b[0m",
      "\u001b[1;31mException\u001b[0m                                 Traceback (most recent call last)",
      "\u001b[1;32m<ipython-input-50-25c3d2066cb5>\u001b[0m in \u001b[0;36m<module>\u001b[1;34m()\u001b[0m\n\u001b[1;32m----> 1\u001b[1;33m \u001b[0mMachineState\u001b[0m\u001b[1;33m(\u001b[0m\u001b[1;33m[\u001b[0m\u001b[0mndt\u001b[0m\u001b[1;33m.\u001b[0m\u001b[0mint32\u001b[0m\u001b[1;33m,\u001b[0m \u001b[0mndt\u001b[0m\u001b[1;33m.\u001b[0m\u001b[0mfloat32\u001b[0m\u001b[1;33m]\u001b[0m\u001b[1;33m)\u001b[0m\u001b[1;33m.\u001b[0m\u001b[0mrun\u001b[0m\u001b[1;33m(\u001b[0m\u001b[0minstr\u001b[0m\u001b[1;33m)\u001b[0m\u001b[1;33m\u001b[0m\u001b[0m\n\u001b[0m",
      "\u001b[1;32m<ipython-input-10-cf81b5bffe26>\u001b[0m in \u001b[0;36mrun\u001b[1;34m(self, instr)\u001b[0m\n\u001b[0;32m     10\u001b[0m             \u001b[0mi\u001b[0m \u001b[1;33m=\u001b[0m \u001b[1;36m0\u001b[0m\u001b[1;33m;\u001b[0m\u001b[1;33m\u001b[0m\u001b[0m\n\u001b[0;32m     11\u001b[0m             \u001b[1;32mwhile\u001b[0m \u001b[1;32mTrue\u001b[0m\u001b[1;33m:\u001b[0m\u001b[1;33m\u001b[0m\u001b[0m\n\u001b[1;32m---> 12\u001b[1;33m                 \u001b[0mi\u001b[0m \u001b[1;33m=\u001b[0m \u001b[0minstr\u001b[0m\u001b[1;33m[\u001b[0m\u001b[0mi\u001b[0m\u001b[1;33m]\u001b[0m\u001b[1;33m(\u001b[0m\u001b[0mself\u001b[0m\u001b[1;33m)\u001b[0m\u001b[1;33m\u001b[0m\u001b[0m\n\u001b[0m\u001b[0;32m     13\u001b[0m         \u001b[1;32mexcept\u001b[0m \u001b[0mMachineResult\u001b[0m \u001b[1;32mas\u001b[0m \u001b[0me\u001b[0m\u001b[1;33m:\u001b[0m\u001b[1;33m\u001b[0m\u001b[0m\n\u001b[0;32m     14\u001b[0m             \u001b[1;32mreturn\u001b[0m \u001b[0me\u001b[0m\u001b[1;33m.\u001b[0m\u001b[0mresult\u001b[0m\u001b[1;33m\u001b[0m\u001b[0m\n",
      "\u001b[1;32m<ipython-input-2-d0c5ed9edf8f>\u001b[0m in \u001b[0;36m__call__\u001b[1;34m(self, *args, **kw)\u001b[0m\n\u001b[0;32m      6\u001b[0m         \u001b[0mfunctools\u001b[0m\u001b[1;33m.\u001b[0m\u001b[0mupdate_wrapper\u001b[0m\u001b[1;33m(\u001b[0m\u001b[0mself\u001b[0m\u001b[1;33m,\u001b[0m \u001b[0mfunc\u001b[0m\u001b[1;33m)\u001b[0m\u001b[1;33m\u001b[0m\u001b[0m\n\u001b[0;32m      7\u001b[0m     \u001b[1;32mdef\u001b[0m \u001b[0m__call__\u001b[0m\u001b[1;33m(\u001b[0m\u001b[0mself\u001b[0m\u001b[1;33m,\u001b[0m \u001b[1;33m*\u001b[0m\u001b[0margs\u001b[0m\u001b[1;33m,\u001b[0m \u001b[1;33m**\u001b[0m\u001b[0mkw\u001b[0m\u001b[1;33m)\u001b[0m\u001b[1;33m:\u001b[0m\u001b[1;33m\u001b[0m\u001b[0m\n\u001b[1;32m----> 8\u001b[1;33m         \u001b[1;32mreturn\u001b[0m \u001b[0mself\u001b[0m\u001b[1;33m.\u001b[0m\u001b[0m_func\u001b[0m\u001b[1;33m(\u001b[0m\u001b[1;33m*\u001b[0m\u001b[0margs\u001b[0m\u001b[1;33m,\u001b[0m \u001b[1;33m**\u001b[0m\u001b[0mkw\u001b[0m\u001b[1;33m)\u001b[0m\u001b[1;33m\u001b[0m\u001b[0m\n\u001b[0m\u001b[0;32m      9\u001b[0m     \u001b[1;32mdef\u001b[0m \u001b[0m__repr__\u001b[0m\u001b[1;33m(\u001b[0m\u001b[0mself\u001b[0m\u001b[1;33m)\u001b[0m\u001b[1;33m:\u001b[0m\u001b[1;33m\u001b[0m\u001b[0m\n\u001b[0;32m     10\u001b[0m         \u001b[1;32mreturn\u001b[0m \u001b[0mself\u001b[0m\u001b[1;33m.\u001b[0m\u001b[0m_reprstr\u001b[0m\u001b[1;33m\u001b[0m\u001b[0m\n",
      "\u001b[1;32m<ipython-input-10-cf81b5bffe26>\u001b[0m in \u001b[0;36m_typeid\u001b[1;34m(state)\u001b[0m\n\u001b[0;32m     44\u001b[0m             \u001b[0mtid\u001b[0m \u001b[1;33m=\u001b[0m \u001b[0mstate\u001b[0m\u001b[1;33m.\u001b[0m\u001b[0mtinp\u001b[0m\u001b[1;33m[\u001b[0m\u001b[0mdecision_tree\u001b[0m\u001b[1;33m[\u001b[0m\u001b[1;36m1\u001b[0m\u001b[1;33m]\u001b[0m\u001b[1;33m]\u001b[0m\u001b[1;33m.\u001b[0m\u001b[0mid\u001b[0m\u001b[1;33m\u001b[0m\u001b[0m\n\u001b[0;32m     45\u001b[0m             \u001b[1;32mif\u001b[0m \u001b[1;32mnot\u001b[0m \u001b[0mtid\u001b[0m \u001b[1;32min\u001b[0m \u001b[0mnextinstr\u001b[0m\u001b[1;33m:\u001b[0m\u001b[1;33m\u001b[0m\u001b[0m\n\u001b[1;32m---> 46\u001b[1;33m                 \u001b[1;32mraise\u001b[0m \u001b[0mException\u001b[0m\u001b[1;33m(\u001b[0m\u001b[1;34m'No match found'\u001b[0m\u001b[1;33m)\u001b[0m\u001b[1;33m\u001b[0m\u001b[0m\n\u001b[0m\u001b[0;32m     47\u001b[0m             \u001b[1;32melse\u001b[0m\u001b[1;33m:\u001b[0m\u001b[1;33m\u001b[0m\u001b[0m\n\u001b[0;32m     48\u001b[0m                 \u001b[1;32mreturn\u001b[0m \u001b[0mnextinstr\u001b[0m\u001b[1;33m[\u001b[0m\u001b[0mtid\u001b[0m\u001b[1;33m]\u001b[0m\u001b[1;33m\u001b[0m\u001b[0m\n",
      "\u001b[1;31mException\u001b[0m: No match found"
     ]
    }
   ],
   "source": [
    "MachineState([ndt.int32, ndt.float32]).run(instr)"
   ]
  },
  {
   "cell_type": "markdown",
   "metadata": {},
   "source": [
    "This should have matched against the most general signature 5, but failed to match anything.\n",
    "This is because instead of taking an `else` case for the type variable, our code is literally\n",
    "checking for the type variable type id."
   ]
  },
  {
   "cell_type": "code",
   "execution_count": null,
   "metadata": {
    "collapsed": true
   },
   "outputs": [],
   "source": []
  }
 ],
 "metadata": {
  "kernelspec": {
   "display_name": "Python 3",
   "language": "python",
   "name": "python3"
  },
  "language_info": {
   "codemirror_mode": {
    "name": "ipython",
    "version": 3
   },
   "file_extension": ".py",
   "mimetype": "text/x-python",
   "name": "python",
   "nbconvert_exporter": "python",
   "pygments_lexer": "ipython3",
   "version": "3.5.2"
  }
 },
 "nbformat": 4,
 "nbformat_minor": 0
}
