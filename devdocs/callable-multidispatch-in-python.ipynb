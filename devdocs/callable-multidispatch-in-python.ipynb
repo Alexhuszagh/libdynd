{
 "cells": [
  {
   "cell_type": "markdown",
   "metadata": {},
   "source": [
    "# DyND Callable MultiDispatch in Python"
   ]
  },
  {
   "cell_type": "markdown",
   "metadata": {},
   "source": [
    "This is a notebook which goes with the [DyND Callable Multi-Dispatch Design](callable-multidispatch-design.md).\n",
    "It's an implementation of the described signature subset construction, with the aim to illustrate the algorithm\n",
    "clearly. We will build up an implementation in stages, starting with simple cases and gradually escalating the\n",
    "complexity to account for more of the pattern matching capabilities that DyND types have."
   ]
  },
  {
   "cell_type": "code",
   "execution_count": 29,
   "metadata": {
    "collapsed": false
   },
   "outputs": [
    {
     "name": "stdout",
     "output_type": "stream",
     "text": [
      "libdynd v0.7.2-975-ga53df83 , dynd-python v0.7.2-278-gbbf2ace\n"
     ]
    }
   ],
   "source": [
    "import dynd\n",
    "from dynd import nd, ndt\n",
    "from pprint import pprint\n",
    "print(\"libdynd\", dynd.__libdynd_version__, \", dynd-python\", dynd.__version__)"
   ]
  },
  {
   "cell_type": "code",
   "execution_count": 108,
   "metadata": {
    "collapsed": true
   },
   "outputs": [],
   "source": [
    "import functools\n",
    "class reprwrapper(object):\n",
    "    def __init__(self, reprstr, func):\n",
    "        self._reprstr = reprstr\n",
    "        self._func = func\n",
    "        functools.update_wrapper(self, func)\n",
    "    def __call__(self, *args, **kw):\n",
    "        return self._func(*args, **kw)\n",
    "    def __repr__(self):\n",
    "        return self._reprstr\n",
    "\n",
    "def withrepr(reprstr):\n",
    "    def _wrap(func):\n",
    "        return reprwrapper(reprstr, func)\n",
    "    return _wrap"
   ]
  },
  {
   "cell_type": "markdown",
   "metadata": {},
   "source": [
    "## Simple Scalar Signatures"
   ]
  },
  {
   "cell_type": "markdown",
   "metadata": {},
   "source": [
    "Let's start with a few scalar signatures."
   ]
  },
  {
   "cell_type": "code",
   "execution_count": 170,
   "metadata": {
    "collapsed": false
   },
   "outputs": [],
   "source": [
    "sigs = [ndt.type(\"(int8, int8) -> int8\"),\n",
    "        ndt.type(\"(int16, int16) -> int16\"),\n",
    "        ndt.type(\"(float32, float32) -> float32\")]"
   ]
  },
  {
   "cell_type": "code",
   "execution_count": 171,
   "metadata": {
    "collapsed": false
   },
   "outputs": [
    {
     "name": "stdout",
     "output_type": "stream",
     "text": [
      "[[ndt.type('int8'), ndt.type('int8')],\n",
      " [ndt.type('int16'), ndt.type('int16')],\n",
      " [ndt.type('float32'), ndt.type('float32')]]\n"
     ]
    }
   ],
   "source": [
    "sigs_working = [s.pos_types for s in sigs]; pprint(sigs_working)"
   ]
  },
  {
   "cell_type": "markdown",
   "metadata": {},
   "source": [
    "For this initial case, we don't need to track additional working state, so that's it. We do need\n",
    "a set of equations that need to be satisfied for a match. The only form of equation at this point is\n",
    "`S.TInp[i].matches(TInp[i])`, so we'll just store the `i`."
   ]
  },
  {
   "cell_type": "code",
   "execution_count": 172,
   "metadata": {
    "collapsed": true
   },
   "outputs": [],
   "source": [
    "equations = [0, 1]"
   ]
  },
  {
   "cell_type": "markdown",
   "metadata": {},
   "source": [
    "Each node of the decision tree will process an equation, either completely or partially by decomposing\n",
    "it into additional simpler equations. We're starting really simple, so that we can build up the complexity of\n",
    "the final algorithm incrementally."
   ]
  },
  {
   "cell_type": "code",
   "execution_count": 173,
   "metadata": {
    "collapsed": false
   },
   "outputs": [],
   "source": [
    "def child_edges(sigs_working, i):\n",
    "    return {sig[i].id for sig in sigs_working if sig is not None}\n",
    "\n",
    "def filter_sigs(sigs_working, i, tid):\n",
    "    return [sig if sig and sig[i].id == tid else None for sig in sigs_working]"
   ]
  },
  {
   "cell_type": "markdown",
   "metadata": {},
   "source": [
    "We're going to just process the first equation at each step. Eventually, we'll want to pick the\n",
    "equation which maximizes how quickly we shrink the set of working signatures, but we'll not do that yet."
   ]
  },
  {
   "cell_type": "code",
   "execution_count": 175,
   "metadata": {
    "collapsed": false
   },
   "outputs": [
    {
     "name": "stdout",
     "output_type": "stream",
     "text": [
      "{6: [[ndt.type('int8'), ndt.type('int8')], None, None],\n",
      " 7: [None, [ndt.type('int16'), ndt.type('int16')], None],\n",
      " 19: [None, None, [ndt.type('float32'), ndt.type('float32')]]}\n"
     ]
    }
   ],
   "source": [
    "edges = {tid: filter_sigs(sigs_working, equations[0], tid)\n",
    "         for tid in child_edges(sigs_working, equations[0])}\n",
    "pprint(edges)"
   ]
  },
  {
   "cell_type": "markdown",
   "metadata": {},
   "source": [
    "This gave us a decision tree node which looks at the type id of argument zero. We now need to recursively apply\n",
    "what we just did to every outgoing edge of of the node to complete the tree."
   ]
  },
  {
   "cell_type": "code",
   "execution_count": 176,
   "metadata": {
    "collapsed": false
   },
   "outputs": [],
   "source": [
    "def build_decision_tree_node(sigs_working, equations):\n",
    "    if equations:\n",
    "        # For now, always processing the first equation\n",
    "        i, equations = equations[0], equations[1:]\n",
    "        # Each equation generates a candidate decision tree node\n",
    "        edges = {tid: filter_sigs(sigs_working, i, tid)\n",
    "                 for tid in child_edges(sigs_working, i)}\n",
    "        # Build the child nodes recursively\n",
    "        return ('typeid', i, {tid: build_decision_tree_node(edges[tid], equations)\n",
    "                              for tid in edges})\n",
    "    else:\n",
    "        # When there are no equations left, the arguments are fully matched\n",
    "        results = [i for (i, sig) in enumerate(sigs_working) if sig is not None]\n",
    "        if len(results) == 1:\n",
    "            return ('match', results[0])\n",
    "        elif(results):\n",
    "            return ('ambiguous', results)\n",
    "        else:\n",
    "            return ('nomatch')\n",
    "        \n",
    "\n",
    "def build_decision_tree(sigs):\n",
    "    sigs_working = [s.pos_types for s in sigs]\n",
    "    equations = list(range(len(sigs_working[0])))\n",
    "    return build_decision_tree_node(sigs_working, equations)"
   ]
  },
  {
   "cell_type": "code",
   "execution_count": 177,
   "metadata": {
    "collapsed": false
   },
   "outputs": [
    {
     "name": "stdout",
     "output_type": "stream",
     "text": [
      "('typeid',\n",
      " 0,\n",
      " {6: ('typeid', 1, {6: ('match', 0)}),\n",
      "  7: ('typeid', 1, {7: ('match', 1)}),\n",
      "  19: ('typeid', 1, {19: ('match', 2)})})\n"
     ]
    }
   ],
   "source": [
    "pprint(build_decision_tree(sigs))"
   ]
  },
  {
   "cell_type": "markdown",
   "metadata": {},
   "source": [
    "The final thing we want to do is convert the decision tree into some bytecode that can be executed quickly.\n",
    "We'll model the bytecode as a list of functions that modify a simple machine state."
   ]
  },
  {
   "cell_type": "code",
   "execution_count": 178,
   "metadata": {
    "collapsed": false
   },
   "outputs": [],
   "source": [
    "class MachineResult(Exception):\n",
    "    def __init__(self, result):\n",
    "        self.result = result\n",
    "\n",
    "class MachineState:\n",
    "    def __init__(self, argtypes):\n",
    "        self.argtypes = argtypes\n",
    "    def run(self, instr):\n",
    "        try:\n",
    "            i = 0;\n",
    "            while True:\n",
    "                i = instr[i](self)\n",
    "        except MachineResult as e:\n",
    "            return e.result\n",
    "\n",
    "def build_machine(decision_tree, instr=None):\n",
    "    if instr is None:\n",
    "        instr = []\n",
    "        build_machine(decision_tree, instr)\n",
    "        return instr\n",
    "    i = len(instr)\n",
    "    if(decision_tree[0] == 'match'):\n",
    "        @withrepr('%d <return match %d>' % (i, decision_tree[1]))\n",
    "        def _match(state):\n",
    "            raise MachineResult(decision_tree[1])\n",
    "        instr.append(_match)\n",
    "    elif(decision_tree[0] == 'ambiguous'):\n",
    "        @withrepr('%d <raise ambiguous %r>' % (i, decision_tree[1]))\n",
    "        def _ambiguous(state):\n",
    "            raise Exception('Ambiguous matches %s' % decision_tree[1])\n",
    "        instr.append(_ambiguous)\n",
    "    elif(decision_tree[0] == 'nomatch'):\n",
    "        @withrepr('%d <raise nomatch>' % (i,))\n",
    "        def _nomatch(state):\n",
    "            raise Exception('No match found')\n",
    "        instr.append(_nomatch)\n",
    "    elif(decision_tree[0] == 'typeid'):\n",
    "        instr.append(None)\n",
    "        nextinstr = {tid: build_machine(decision_tree[2][tid], instr)\n",
    "                     for tid in sorted(decision_tree[2])}\n",
    "        @withrepr('%d <switch typeid[%d] {%s}>' %\n",
    "                  (i, decision_tree[1], ', '.join('%d: %d' % (k, nextinstr[k]) for k in sorted(nextinstr))))\n",
    "        def _typeid(state):\n",
    "            tid = state.argtypes[decision_tree[1]].id\n",
    "            if not tid in nextinstr:\n",
    "                raise Exception('No match found')\n",
    "            else:\n",
    "                return nextinstr[tid]\n",
    "        instr[i] = _typeid\n",
    "    return i"
   ]
  },
  {
   "cell_type": "code",
   "execution_count": 179,
   "metadata": {
    "collapsed": false
   },
   "outputs": [
    {
     "name": "stdout",
     "output_type": "stream",
     "text": [
      "[0 <switch typeid[0] {6: 1, 7: 3, 19: 5}>,\n",
      " 1 <switch typeid[1] {6: 2}>,\n",
      " 2 <return match 0>,\n",
      " 3 <switch typeid[1] {7: 4}>,\n",
      " 4 <return match 1>,\n",
      " 5 <switch typeid[1] {19: 6}>,\n",
      " 6 <return match 2>]\n"
     ]
    }
   ],
   "source": [
    "instr = build_machine(build_decision_tree(sigs)); pprint(instr)"
   ]
  },
  {
   "cell_type": "markdown",
   "metadata": {},
   "source": [
    "Now we can run run these instructions on a few different matching and non-matching argument types."
   ]
  },
  {
   "cell_type": "code",
   "execution_count": 180,
   "metadata": {
    "collapsed": false
   },
   "outputs": [
    {
     "data": {
      "text/plain": [
       "0"
      ]
     },
     "execution_count": 180,
     "metadata": {},
     "output_type": "execute_result"
    }
   ],
   "source": [
    "MachineState([ndt.int8, ndt.int8]).run(instr)"
   ]
  },
  {
   "cell_type": "code",
   "execution_count": 181,
   "metadata": {
    "collapsed": false
   },
   "outputs": [
    {
     "data": {
      "text/plain": [
       "2"
      ]
     },
     "execution_count": 181,
     "metadata": {},
     "output_type": "execute_result"
    }
   ],
   "source": [
    "MachineState([ndt.float32, ndt.float32]).run(instr)"
   ]
  },
  {
   "cell_type": "code",
   "execution_count": 182,
   "metadata": {
    "collapsed": false
   },
   "outputs": [
    {
     "ename": "Exception",
     "evalue": "No match found",
     "output_type": "error",
     "traceback": [
      "\u001b[1;31m---------------------------------------------------------------------------\u001b[0m",
      "\u001b[1;31mException\u001b[0m                                 Traceback (most recent call last)",
      "\u001b[1;32m<ipython-input-182-980ea5d8b04a>\u001b[0m in \u001b[0;36m<module>\u001b[1;34m()\u001b[0m\n\u001b[1;32m----> 1\u001b[1;33m \u001b[0mMachineState\u001b[0m\u001b[1;33m(\u001b[0m\u001b[1;33m[\u001b[0m\u001b[0mndt\u001b[0m\u001b[1;33m.\u001b[0m\u001b[0mint32\u001b[0m\u001b[1;33m,\u001b[0m \u001b[0mndt\u001b[0m\u001b[1;33m.\u001b[0m\u001b[0mint32\u001b[0m\u001b[1;33m]\u001b[0m\u001b[1;33m)\u001b[0m\u001b[1;33m.\u001b[0m\u001b[0mrun\u001b[0m\u001b[1;33m(\u001b[0m\u001b[0minstr\u001b[0m\u001b[1;33m)\u001b[0m\u001b[1;33m\u001b[0m\u001b[0m\n\u001b[0m",
      "\u001b[1;32m<ipython-input-178-385c282780a5>\u001b[0m in \u001b[0;36mrun\u001b[1;34m(self, instr)\u001b[0m\n\u001b[0;32m     10\u001b[0m             \u001b[0mi\u001b[0m \u001b[1;33m=\u001b[0m \u001b[1;36m0\u001b[0m\u001b[1;33m;\u001b[0m\u001b[1;33m\u001b[0m\u001b[0m\n\u001b[0;32m     11\u001b[0m             \u001b[1;32mwhile\u001b[0m \u001b[1;32mTrue\u001b[0m\u001b[1;33m:\u001b[0m\u001b[1;33m\u001b[0m\u001b[0m\n\u001b[1;32m---> 12\u001b[1;33m                 \u001b[0mi\u001b[0m \u001b[1;33m=\u001b[0m \u001b[0minstr\u001b[0m\u001b[1;33m[\u001b[0m\u001b[0mi\u001b[0m\u001b[1;33m]\u001b[0m\u001b[1;33m(\u001b[0m\u001b[0mself\u001b[0m\u001b[1;33m)\u001b[0m\u001b[1;33m\u001b[0m\u001b[0m\n\u001b[0m\u001b[0;32m     13\u001b[0m         \u001b[1;32mexcept\u001b[0m \u001b[0mMachineResult\u001b[0m \u001b[1;32mas\u001b[0m \u001b[0me\u001b[0m\u001b[1;33m:\u001b[0m\u001b[1;33m\u001b[0m\u001b[0m\n\u001b[0;32m     14\u001b[0m             \u001b[1;32mreturn\u001b[0m \u001b[0me\u001b[0m\u001b[1;33m.\u001b[0m\u001b[0mresult\u001b[0m\u001b[1;33m\u001b[0m\u001b[0m\n",
      "\u001b[1;32m<ipython-input-108-d0c5ed9edf8f>\u001b[0m in \u001b[0;36m__call__\u001b[1;34m(self, *args, **kw)\u001b[0m\n\u001b[0;32m      6\u001b[0m         \u001b[0mfunctools\u001b[0m\u001b[1;33m.\u001b[0m\u001b[0mupdate_wrapper\u001b[0m\u001b[1;33m(\u001b[0m\u001b[0mself\u001b[0m\u001b[1;33m,\u001b[0m \u001b[0mfunc\u001b[0m\u001b[1;33m)\u001b[0m\u001b[1;33m\u001b[0m\u001b[0m\n\u001b[0;32m      7\u001b[0m     \u001b[1;32mdef\u001b[0m \u001b[0m__call__\u001b[0m\u001b[1;33m(\u001b[0m\u001b[0mself\u001b[0m\u001b[1;33m,\u001b[0m \u001b[1;33m*\u001b[0m\u001b[0margs\u001b[0m\u001b[1;33m,\u001b[0m \u001b[1;33m**\u001b[0m\u001b[0mkw\u001b[0m\u001b[1;33m)\u001b[0m\u001b[1;33m:\u001b[0m\u001b[1;33m\u001b[0m\u001b[0m\n\u001b[1;32m----> 8\u001b[1;33m         \u001b[1;32mreturn\u001b[0m \u001b[0mself\u001b[0m\u001b[1;33m.\u001b[0m\u001b[0m_func\u001b[0m\u001b[1;33m(\u001b[0m\u001b[1;33m*\u001b[0m\u001b[0margs\u001b[0m\u001b[1;33m,\u001b[0m \u001b[1;33m**\u001b[0m\u001b[0mkw\u001b[0m\u001b[1;33m)\u001b[0m\u001b[1;33m\u001b[0m\u001b[0m\n\u001b[0m\u001b[0;32m      9\u001b[0m     \u001b[1;32mdef\u001b[0m \u001b[0m__repr__\u001b[0m\u001b[1;33m(\u001b[0m\u001b[0mself\u001b[0m\u001b[1;33m)\u001b[0m\u001b[1;33m:\u001b[0m\u001b[1;33m\u001b[0m\u001b[0m\n\u001b[0;32m     10\u001b[0m         \u001b[1;32mreturn\u001b[0m \u001b[0mself\u001b[0m\u001b[1;33m.\u001b[0m\u001b[0m_reprstr\u001b[0m\u001b[1;33m\u001b[0m\u001b[0m\n",
      "\u001b[1;32m<ipython-input-178-385c282780a5>\u001b[0m in \u001b[0;36m_typeid\u001b[1;34m(state)\u001b[0m\n\u001b[0;32m     44\u001b[0m             \u001b[0mtid\u001b[0m \u001b[1;33m=\u001b[0m \u001b[0mstate\u001b[0m\u001b[1;33m.\u001b[0m\u001b[0margtypes\u001b[0m\u001b[1;33m[\u001b[0m\u001b[0mdecision_tree\u001b[0m\u001b[1;33m[\u001b[0m\u001b[1;36m1\u001b[0m\u001b[1;33m]\u001b[0m\u001b[1;33m]\u001b[0m\u001b[1;33m.\u001b[0m\u001b[0mid\u001b[0m\u001b[1;33m\u001b[0m\u001b[0m\n\u001b[0;32m     45\u001b[0m             \u001b[1;32mif\u001b[0m \u001b[1;32mnot\u001b[0m \u001b[0mtid\u001b[0m \u001b[1;32min\u001b[0m \u001b[0mnextinstr\u001b[0m\u001b[1;33m:\u001b[0m\u001b[1;33m\u001b[0m\u001b[0m\n\u001b[1;32m---> 46\u001b[1;33m                 \u001b[1;32mraise\u001b[0m \u001b[0mException\u001b[0m\u001b[1;33m(\u001b[0m\u001b[1;34m'No match found'\u001b[0m\u001b[1;33m)\u001b[0m\u001b[1;33m\u001b[0m\u001b[0m\n\u001b[0m\u001b[0;32m     47\u001b[0m             \u001b[1;32melse\u001b[0m\u001b[1;33m:\u001b[0m\u001b[1;33m\u001b[0m\u001b[0m\n\u001b[0;32m     48\u001b[0m                 \u001b[1;32mreturn\u001b[0m \u001b[0mnextinstr\u001b[0m\u001b[1;33m[\u001b[0m\u001b[0mtid\u001b[0m\u001b[1;33m]\u001b[0m\u001b[1;33m\u001b[0m\u001b[0m\n",
      "\u001b[1;31mException\u001b[0m: No match found"
     ]
    }
   ],
   "source": [
    "MachineState([ndt.int32, ndt.int32]).run(instr)"
   ]
  },
  {
   "cell_type": "markdown",
   "metadata": {},
   "source": [
    "What we've created already works pretty well for simple scalar signatures, let's give the one we used a slight twist."
   ]
  },
  {
   "cell_type": "code",
   "execution_count": 183,
   "metadata": {
    "collapsed": false
   },
   "outputs": [
    {
     "name": "stdout",
     "output_type": "stream",
     "text": [
      "[0 <switch typeid[0] {6: 1, 7: 3, 19: 6}>,\n",
      " 1 <switch typeid[1] {6: 2}>,\n",
      " 2 <return match 0>,\n",
      " 3 <switch typeid[1] {7: 4, 19: 5}>,\n",
      " 4 <return match 1>,\n",
      " 5 <return match 3>,\n",
      " 6 <switch typeid[1] {19: 7}>,\n",
      " 7 <return match 2>]\n"
     ]
    }
   ],
   "source": [
    "sigs2 = [ndt.type(\"(int8, int8) -> int8\"),\n",
    "         ndt.type(\"(int16, int16) -> int16\"),\n",
    "         ndt.type(\"(float32, float32) -> float32\"),\n",
    "         ndt.type(\"(int16, float32) -> float32\")]\n",
    "instr = build_machine(build_decision_tree(sigs2)); pprint(instr)"
   ]
  },
  {
   "cell_type": "markdown",
   "metadata": {},
   "source": [
    "This results in a slightly modified decision tree and machine, that has a branch at the second level if the\n",
    "first argument was `int16`."
   ]
  },
  {
   "cell_type": "markdown",
   "metadata": {},
   "source": [
    "## Signatures With Type Variables"
   ]
  },
  {
   "cell_type": "code",
   "execution_count": null,
   "metadata": {
    "collapsed": true
   },
   "outputs": [],
   "source": []
  }
 ],
 "metadata": {
  "kernelspec": {
   "display_name": "Python 3",
   "language": "python",
   "name": "python3"
  },
  "language_info": {
   "codemirror_mode": {
    "name": "ipython",
    "version": 3
   },
   "file_extension": ".py",
   "mimetype": "text/x-python",
   "name": "python",
   "nbconvert_exporter": "python",
   "pygments_lexer": "ipython3",
   "version": "3.5.1"
  }
 },
 "nbformat": 4,
 "nbformat_minor": 0
}
