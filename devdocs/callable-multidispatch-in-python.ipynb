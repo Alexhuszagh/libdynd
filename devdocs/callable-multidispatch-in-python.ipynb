{
 "cells": [
  {
   "cell_type": "markdown",
   "metadata": {},
   "source": [
    "# DyND Callable MultiDispatch in Python"
   ]
  },
  {
   "cell_type": "markdown",
   "metadata": {},
   "source": [
    "This is a notebook which goes with the [DyND Callable Multi-Dispatch Design](callable-multidispatch-design.md).\n",
    "It's an implementation of the described signature subset construction, with the aim to illustrate the algorithm\n",
    "clearly. We will build up an implementation in stages, starting with simple cases and gradually escalating the\n",
    "complexity to account for more of the pattern matching capabilities that DyND types have."
   ]
  },
  {
   "cell_type": "code",
   "execution_count": 1,
   "metadata": {
    "collapsed": false
   },
   "outputs": [
    {
     "name": "stdout",
     "output_type": "stream",
     "text": [
      "libdynd v0.7.2-975-ga53df83 , dynd-python v0.7.2-278-gbbf2ace\n"
     ]
    }
   ],
   "source": [
    "import dynd\n",
    "from dynd import nd, ndt\n",
    "from pprint import pprint\n",
    "print(\"libdynd\", dynd.__libdynd_version__, \", dynd-python\", dynd.__version__)"
   ]
  },
  {
   "cell_type": "code",
   "execution_count": 2,
   "metadata": {
    "collapsed": true
   },
   "outputs": [],
   "source": [
    "import functools\n",
    "class reprwrapper(object):\n",
    "    def __init__(self, reprstr, func):\n",
    "        self._reprstr = reprstr\n",
    "        self._func = func\n",
    "        functools.update_wrapper(self, func)\n",
    "    def __call__(self, *args, **kw):\n",
    "        return self._func(*args, **kw)\n",
    "    def __repr__(self):\n",
    "        return self._reprstr\n",
    "\n",
    "def withrepr(reprstr):\n",
    "    def _wrap(func):\n",
    "        return reprwrapper(reprstr, func)\n",
    "    return _wrap"
   ]
  },
  {
   "cell_type": "markdown",
   "metadata": {},
   "source": [
    "## Simple Scalar Signatures"
   ]
  },
  {
   "cell_type": "markdown",
   "metadata": {},
   "source": [
    "Let's start with a few scalar signatures."
   ]
  },
  {
   "cell_type": "code",
   "execution_count": 3,
   "metadata": {
    "collapsed": false
   },
   "outputs": [],
   "source": [
    "sigs = [ndt.type(\"(int8, int8) -> int8\"),\n",
    "        ndt.type(\"(int16, int16) -> int16\"),\n",
    "        ndt.type(\"(float32, float32) -> float32\")]"
   ]
  },
  {
   "cell_type": "code",
   "execution_count": 4,
   "metadata": {
    "collapsed": false
   },
   "outputs": [
    {
     "name": "stdout",
     "output_type": "stream",
     "text": [
      "[[ndt.type('int8'), ndt.type('int8')],\n",
      " [ndt.type('int16'), ndt.type('int16')],\n",
      " [ndt.type('float32'), ndt.type('float32')]]\n"
     ]
    }
   ],
   "source": [
    "sigs_working = [s.pos_types for s in sigs]; pprint(sigs_working)"
   ]
  },
  {
   "cell_type": "markdown",
   "metadata": {},
   "source": [
    "For this initial case, we don't need to track additional working state, so that's it. We do need\n",
    "a set of equations that need to be satisfied for a match. The only form of equation at this point is\n",
    "`S.TInp[i].matches(TInp[i])`, so we'll just store the `i`."
   ]
  },
  {
   "cell_type": "code",
   "execution_count": 5,
   "metadata": {
    "collapsed": true
   },
   "outputs": [],
   "source": [
    "equations = [0, 1]"
   ]
  },
  {
   "cell_type": "markdown",
   "metadata": {},
   "source": [
    "Each node of the decision tree will process an equation, either completely or partially by decomposing\n",
    "it into additional simpler equations. We're starting really simple, so that we can build up the complexity of\n",
    "the final algorithm incrementally."
   ]
  },
  {
   "cell_type": "code",
   "execution_count": 6,
   "metadata": {
    "collapsed": false
   },
   "outputs": [],
   "source": [
    "def child_edges(sigs_working, i):\n",
    "    return {sig[i].id for sig in sigs_working if sig is not None}\n",
    "\n",
    "def filter_sigs(sigs_working, i, tid):\n",
    "    return [sig if sig and sig[i].id == tid else None for sig in sigs_working]"
   ]
  },
  {
   "cell_type": "markdown",
   "metadata": {},
   "source": [
    "We're going to just process the first equation at each step. Eventually, we'll want to pick the\n",
    "equation which maximizes how quickly we shrink the set of working signatures, but we'll not do that yet."
   ]
  },
  {
   "cell_type": "code",
   "execution_count": 7,
   "metadata": {
    "collapsed": false
   },
   "outputs": [
    {
     "name": "stdout",
     "output_type": "stream",
     "text": [
      "{6: [[ndt.type('int8'), ndt.type('int8')], None, None],\n",
      " 7: [None, [ndt.type('int16'), ndt.type('int16')], None],\n",
      " 19: [None, None, [ndt.type('float32'), ndt.type('float32')]]}\n"
     ]
    }
   ],
   "source": [
    "edges = {tid: filter_sigs(sigs_working, equations[0], tid)\n",
    "         for tid in child_edges(sigs_working, equations[0])}\n",
    "pprint(edges)"
   ]
  },
  {
   "cell_type": "markdown",
   "metadata": {},
   "source": [
    "This gave us a decision tree node which looks at the type id of argument zero. We now need to recursively apply\n",
    "what we just did to every outgoing edge of of the node to complete the tree."
   ]
  },
  {
   "cell_type": "code",
   "execution_count": 8,
   "metadata": {
    "collapsed": false
   },
   "outputs": [],
   "source": [
    "def build_decision_tree_node(sigs_working, equations):\n",
    "    if equations:\n",
    "        # For now, always processing the first equation\n",
    "        i, equations = equations[0], equations[1:]\n",
    "        # Each equation generates a candidate decision tree node\n",
    "        edges = {tid: filter_sigs(sigs_working, i, tid)\n",
    "                 for tid in child_edges(sigs_working, i)}\n",
    "        # Build the child nodes recursively\n",
    "        return ('typeid', i, {tid: build_decision_tree_node(edges[tid], equations)\n",
    "                              for tid in edges})\n",
    "    else:\n",
    "        # When there are no equations left, the arguments are fully matched\n",
    "        results = [i for (i, sig) in enumerate(sigs_working) if sig is not None]\n",
    "        if len(results) == 1:\n",
    "            return ('match', results[0])\n",
    "        elif(results):\n",
    "            return ('ambiguous', results)\n",
    "        else:\n",
    "            return ('nomatch')\n",
    "        \n",
    "\n",
    "def build_decision_tree(sigs):\n",
    "    sigs_working = [s.pos_types for s in sigs]\n",
    "    equations = list(range(len(sigs_working[0])))\n",
    "    return build_decision_tree_node(sigs_working, equations)"
   ]
  },
  {
   "cell_type": "code",
   "execution_count": 9,
   "metadata": {
    "collapsed": false
   },
   "outputs": [
    {
     "name": "stdout",
     "output_type": "stream",
     "text": [
      "('typeid',\n",
      " 0,\n",
      " {6: ('typeid', 1, {6: ('match', 0)}),\n",
      "  7: ('typeid', 1, {7: ('match', 1)}),\n",
      "  19: ('typeid', 1, {19: ('match', 2)})})\n"
     ]
    }
   ],
   "source": [
    "pprint(build_decision_tree(sigs))"
   ]
  },
  {
   "cell_type": "markdown",
   "metadata": {},
   "source": [
    "The final thing we want to do is convert the decision tree into some bytecode that can be executed quickly.\n",
    "We'll model the bytecode as a list of functions that modify a simple machine state."
   ]
  },
  {
   "cell_type": "code",
   "execution_count": 10,
   "metadata": {
    "collapsed": false
   },
   "outputs": [],
   "source": [
    "class MachineResult(Exception):\n",
    "    def __init__(self, result):\n",
    "        self.result = result\n",
    "\n",
    "class MachineState:\n",
    "    def __init__(self, tinp):\n",
    "        self.tinp = tinp\n",
    "    def run(self, instr):\n",
    "        try:\n",
    "            i = 0;\n",
    "            while True:\n",
    "                i = instr[i](self)\n",
    "        except MachineResult as e:\n",
    "            return e.result\n",
    "\n",
    "def build_machine(decision_tree, instr=None):\n",
    "    if instr is None:\n",
    "        instr = []\n",
    "        build_machine(decision_tree, instr)\n",
    "        return instr\n",
    "    i = len(instr)\n",
    "    if(decision_tree[0] == 'match'):\n",
    "        @withrepr('L%d <return match %d>' % (i, decision_tree[1]))\n",
    "        def _match(state):\n",
    "            raise MachineResult(decision_tree[1])\n",
    "        instr.append(_match)\n",
    "    elif(decision_tree[0] == 'ambiguous'):\n",
    "        @withrepr('L%d <raise ambiguous %r>' % (i, decision_tree[1]))\n",
    "        def _ambiguous(state):\n",
    "            raise Exception('Ambiguous matches %s' % decision_tree[1])\n",
    "        instr.append(_ambiguous)\n",
    "    elif(decision_tree[0] == 'nomatch'):\n",
    "        @withrepr('L%d <raise nomatch>' % (i,))\n",
    "        def _nomatch(state):\n",
    "            raise Exception('No match found')\n",
    "        instr.append(_nomatch)\n",
    "    elif(decision_tree[0] == 'typeid'):\n",
    "        instr.append(None)\n",
    "        nextinstr = {tid: build_machine(decision_tree[2][tid], instr)\n",
    "                     for tid in sorted(decision_tree[2])}\n",
    "        @withrepr('L%d <switch typeid[%d] goto {%s}>' %\n",
    "                  (i, decision_tree[1], ', '.join('%d: L%d' % (k, nextinstr[k]) for k in sorted(nextinstr))))\n",
    "        def _typeid(state):\n",
    "            tid = state.tinp[decision_tree[1]].id\n",
    "            if not tid in nextinstr:\n",
    "                raise Exception('No match found')\n",
    "            else:\n",
    "                return nextinstr[tid]\n",
    "        instr[i] = _typeid\n",
    "    return i"
   ]
  },
  {
   "cell_type": "code",
   "execution_count": 11,
   "metadata": {
    "collapsed": false
   },
   "outputs": [
    {
     "name": "stdout",
     "output_type": "stream",
     "text": [
      "[L0 <switch typeid[0] goto {6: L1, 7: L3, 19: L5}>,\n",
      " L1 <switch typeid[1] goto {6: L2}>,\n",
      " L2 <return match 0>,\n",
      " L3 <switch typeid[1] goto {7: L4}>,\n",
      " L4 <return match 1>,\n",
      " L5 <switch typeid[1] goto {19: L6}>,\n",
      " L6 <return match 2>]\n"
     ]
    }
   ],
   "source": [
    "instr = build_machine(build_decision_tree(sigs)); pprint(instr)"
   ]
  },
  {
   "cell_type": "markdown",
   "metadata": {},
   "source": [
    "Now we can run run these instructions on a few different matching and non-matching argument types."
   ]
  },
  {
   "cell_type": "code",
   "execution_count": 12,
   "metadata": {
    "collapsed": false
   },
   "outputs": [
    {
     "data": {
      "text/plain": [
       "0"
      ]
     },
     "execution_count": 12,
     "metadata": {},
     "output_type": "execute_result"
    }
   ],
   "source": [
    "MachineState([ndt.int8, ndt.int8]).run(instr)"
   ]
  },
  {
   "cell_type": "code",
   "execution_count": 13,
   "metadata": {
    "collapsed": false
   },
   "outputs": [
    {
     "data": {
      "text/plain": [
       "2"
      ]
     },
     "execution_count": 13,
     "metadata": {},
     "output_type": "execute_result"
    }
   ],
   "source": [
    "MachineState([ndt.float32, ndt.float32]).run(instr)"
   ]
  },
  {
   "cell_type": "code",
   "execution_count": 14,
   "metadata": {
    "collapsed": false
   },
   "outputs": [
    {
     "ename": "Exception",
     "evalue": "No match found",
     "output_type": "error",
     "traceback": [
      "\u001b[1;31m---------------------------------------------------------------------------\u001b[0m",
      "\u001b[1;31mException\u001b[0m                                 Traceback (most recent call last)",
      "\u001b[1;32m<ipython-input-14-980ea5d8b04a>\u001b[0m in \u001b[0;36m<module>\u001b[1;34m()\u001b[0m\n\u001b[1;32m----> 1\u001b[1;33m \u001b[0mMachineState\u001b[0m\u001b[1;33m(\u001b[0m\u001b[1;33m[\u001b[0m\u001b[0mndt\u001b[0m\u001b[1;33m.\u001b[0m\u001b[0mint32\u001b[0m\u001b[1;33m,\u001b[0m \u001b[0mndt\u001b[0m\u001b[1;33m.\u001b[0m\u001b[0mint32\u001b[0m\u001b[1;33m]\u001b[0m\u001b[1;33m)\u001b[0m\u001b[1;33m.\u001b[0m\u001b[0mrun\u001b[0m\u001b[1;33m(\u001b[0m\u001b[0minstr\u001b[0m\u001b[1;33m)\u001b[0m\u001b[1;33m\u001b[0m\u001b[0m\n\u001b[0m",
      "\u001b[1;32m<ipython-input-10-cf81b5bffe26>\u001b[0m in \u001b[0;36mrun\u001b[1;34m(self, instr)\u001b[0m\n\u001b[0;32m     10\u001b[0m             \u001b[0mi\u001b[0m \u001b[1;33m=\u001b[0m \u001b[1;36m0\u001b[0m\u001b[1;33m;\u001b[0m\u001b[1;33m\u001b[0m\u001b[0m\n\u001b[0;32m     11\u001b[0m             \u001b[1;32mwhile\u001b[0m \u001b[1;32mTrue\u001b[0m\u001b[1;33m:\u001b[0m\u001b[1;33m\u001b[0m\u001b[0m\n\u001b[1;32m---> 12\u001b[1;33m                 \u001b[0mi\u001b[0m \u001b[1;33m=\u001b[0m \u001b[0minstr\u001b[0m\u001b[1;33m[\u001b[0m\u001b[0mi\u001b[0m\u001b[1;33m]\u001b[0m\u001b[1;33m(\u001b[0m\u001b[0mself\u001b[0m\u001b[1;33m)\u001b[0m\u001b[1;33m\u001b[0m\u001b[0m\n\u001b[0m\u001b[0;32m     13\u001b[0m         \u001b[1;32mexcept\u001b[0m \u001b[0mMachineResult\u001b[0m \u001b[1;32mas\u001b[0m \u001b[0me\u001b[0m\u001b[1;33m:\u001b[0m\u001b[1;33m\u001b[0m\u001b[0m\n\u001b[0;32m     14\u001b[0m             \u001b[1;32mreturn\u001b[0m \u001b[0me\u001b[0m\u001b[1;33m.\u001b[0m\u001b[0mresult\u001b[0m\u001b[1;33m\u001b[0m\u001b[0m\n",
      "\u001b[1;32m<ipython-input-2-d0c5ed9edf8f>\u001b[0m in \u001b[0;36m__call__\u001b[1;34m(self, *args, **kw)\u001b[0m\n\u001b[0;32m      6\u001b[0m         \u001b[0mfunctools\u001b[0m\u001b[1;33m.\u001b[0m\u001b[0mupdate_wrapper\u001b[0m\u001b[1;33m(\u001b[0m\u001b[0mself\u001b[0m\u001b[1;33m,\u001b[0m \u001b[0mfunc\u001b[0m\u001b[1;33m)\u001b[0m\u001b[1;33m\u001b[0m\u001b[0m\n\u001b[0;32m      7\u001b[0m     \u001b[1;32mdef\u001b[0m \u001b[0m__call__\u001b[0m\u001b[1;33m(\u001b[0m\u001b[0mself\u001b[0m\u001b[1;33m,\u001b[0m \u001b[1;33m*\u001b[0m\u001b[0margs\u001b[0m\u001b[1;33m,\u001b[0m \u001b[1;33m**\u001b[0m\u001b[0mkw\u001b[0m\u001b[1;33m)\u001b[0m\u001b[1;33m:\u001b[0m\u001b[1;33m\u001b[0m\u001b[0m\n\u001b[1;32m----> 8\u001b[1;33m         \u001b[1;32mreturn\u001b[0m \u001b[0mself\u001b[0m\u001b[1;33m.\u001b[0m\u001b[0m_func\u001b[0m\u001b[1;33m(\u001b[0m\u001b[1;33m*\u001b[0m\u001b[0margs\u001b[0m\u001b[1;33m,\u001b[0m \u001b[1;33m**\u001b[0m\u001b[0mkw\u001b[0m\u001b[1;33m)\u001b[0m\u001b[1;33m\u001b[0m\u001b[0m\n\u001b[0m\u001b[0;32m      9\u001b[0m     \u001b[1;32mdef\u001b[0m \u001b[0m__repr__\u001b[0m\u001b[1;33m(\u001b[0m\u001b[0mself\u001b[0m\u001b[1;33m)\u001b[0m\u001b[1;33m:\u001b[0m\u001b[1;33m\u001b[0m\u001b[0m\n\u001b[0;32m     10\u001b[0m         \u001b[1;32mreturn\u001b[0m \u001b[0mself\u001b[0m\u001b[1;33m.\u001b[0m\u001b[0m_reprstr\u001b[0m\u001b[1;33m\u001b[0m\u001b[0m\n",
      "\u001b[1;32m<ipython-input-10-cf81b5bffe26>\u001b[0m in \u001b[0;36m_typeid\u001b[1;34m(state)\u001b[0m\n\u001b[0;32m     44\u001b[0m             \u001b[0mtid\u001b[0m \u001b[1;33m=\u001b[0m \u001b[0mstate\u001b[0m\u001b[1;33m.\u001b[0m\u001b[0mtinp\u001b[0m\u001b[1;33m[\u001b[0m\u001b[0mdecision_tree\u001b[0m\u001b[1;33m[\u001b[0m\u001b[1;36m1\u001b[0m\u001b[1;33m]\u001b[0m\u001b[1;33m]\u001b[0m\u001b[1;33m.\u001b[0m\u001b[0mid\u001b[0m\u001b[1;33m\u001b[0m\u001b[0m\n\u001b[0;32m     45\u001b[0m             \u001b[1;32mif\u001b[0m \u001b[1;32mnot\u001b[0m \u001b[0mtid\u001b[0m \u001b[1;32min\u001b[0m \u001b[0mnextinstr\u001b[0m\u001b[1;33m:\u001b[0m\u001b[1;33m\u001b[0m\u001b[0m\n\u001b[1;32m---> 46\u001b[1;33m                 \u001b[1;32mraise\u001b[0m \u001b[0mException\u001b[0m\u001b[1;33m(\u001b[0m\u001b[1;34m'No match found'\u001b[0m\u001b[1;33m)\u001b[0m\u001b[1;33m\u001b[0m\u001b[0m\n\u001b[0m\u001b[0;32m     47\u001b[0m             \u001b[1;32melse\u001b[0m\u001b[1;33m:\u001b[0m\u001b[1;33m\u001b[0m\u001b[0m\n\u001b[0;32m     48\u001b[0m                 \u001b[1;32mreturn\u001b[0m \u001b[0mnextinstr\u001b[0m\u001b[1;33m[\u001b[0m\u001b[0mtid\u001b[0m\u001b[1;33m]\u001b[0m\u001b[1;33m\u001b[0m\u001b[0m\n",
      "\u001b[1;31mException\u001b[0m: No match found"
     ]
    }
   ],
   "source": [
    "MachineState([ndt.int32, ndt.int32]).run(instr)"
   ]
  },
  {
   "cell_type": "markdown",
   "metadata": {},
   "source": [
    "What we've created already works pretty well for simple scalar signatures, let's give the one we used a slight twist."
   ]
  },
  {
   "cell_type": "code",
   "execution_count": 15,
   "metadata": {
    "collapsed": false
   },
   "outputs": [
    {
     "name": "stdout",
     "output_type": "stream",
     "text": [
      "[L0 <switch typeid[0] goto {6: L1, 7: L3, 19: L6}>,\n",
      " L1 <switch typeid[1] goto {6: L2}>,\n",
      " L2 <return match 0>,\n",
      " L3 <switch typeid[1] goto {7: L4, 19: L5}>,\n",
      " L4 <return match 1>,\n",
      " L5 <return match 3>,\n",
      " L6 <switch typeid[1] goto {19: L7}>,\n",
      " L7 <return match 2>]\n"
     ]
    }
   ],
   "source": [
    "sigs2 = [ndt.type(\"(int8, int8) -> int8\"),\n",
    "         ndt.type(\"(int16, int16) -> int16\"),\n",
    "         ndt.type(\"(float32, float32) -> float32\"),\n",
    "         ndt.type(\"(int16, float32) -> float32\")]\n",
    "instr = build_machine(build_decision_tree(sigs2)); pprint(instr)"
   ]
  },
  {
   "cell_type": "markdown",
   "metadata": {},
   "source": [
    "This results in a slightly modified decision tree and machine, that has a branch at the second level if the\n",
    "first argument was `int16`."
   ]
  },
  {
   "cell_type": "markdown",
   "metadata": {},
   "source": [
    "## Signatures With Type Variables"
   ]
  },
  {
   "cell_type": "markdown",
   "metadata": {},
   "source": [
    "While it's maybe nice to hone in on specific signatures quickly with the described machine, DyND\n",
    "callable signatures include more complicated matching abilities via type variables, dimensions,\n",
    "and other types with type parameters. We're going to start with just adding two signatures\n",
    "including type variables, which will require some type substitution and eliminating signatures via\n",
    "the `matches` partial ordering.\n",
    "\n",
    "The machine we've built to execute matching began with just the state `tinp`, consisting of the\n",
    "argument input types. We're going to change our `sigs_working` data from just consisting of a list\n",
    "of the signature argument types that correspond to `tinp` into a list of objects modeling the machine\n",
    "state. Both our machine state and the symbolic model of it will gain a new `twork` list, which\n",
    "is where types, typically components of an equation being processed, are placed to generate new\n",
    "equations."
   ]
  },
  {
   "cell_type": "code",
   "execution_count": 16,
   "metadata": {
    "collapsed": true
   },
   "outputs": [],
   "source": [
    "sigs3 = [ndt.type(\"(int8, int8) -> int8\"),\n",
    "         ndt.type(\"(int16, int16) -> int16\"),\n",
    "         ndt.type(\"(float32, float32) -> float32\"),\n",
    "         ndt.type(\"(int16, float32) -> float32\"),\n",
    "         ndt.type(\"(T, T) -> T\"),\n",
    "         ndt.type(\"(S, T) -> T\")]"
   ]
  },
  {
   "cell_type": "code",
   "execution_count": 21,
   "metadata": {
    "collapsed": false
   },
   "outputs": [
    {
     "data": {
      "image/svg+xml": [
       "<?xml version=\"1.0\" encoding=\"UTF-8\" standalone=\"no\"?>\r\n",
       "<!DOCTYPE svg PUBLIC \"-//W3C//DTD SVG 1.1//EN\"\r\n",
       " \"http://www.w3.org/Graphics/SVG/1.1/DTD/svg11.dtd\">\r\n",
       "<!-- Generated by graphviz version 2.38.0 (20140413.2041)\r\n",
       " -->\r\n",
       "<!-- Title: %3 Pages: 1 -->\r\n",
       "<svg width=\"806pt\" height=\"116pt\"\r\n",
       " viewBox=\"0.00 0.00 806.13 116.00\" xmlns=\"http://www.w3.org/2000/svg\" xmlns:xlink=\"http://www.w3.org/1999/xlink\">\r\n",
       "<g id=\"graph0\" class=\"graph\" transform=\"scale(1 1) rotate(0) translate(4 112)\">\r\n",
       "<title>%3</title>\r\n",
       "<polygon fill=\"white\" stroke=\"none\" points=\"-4,4 -4,-112 802.134,-112 802.134,4 -4,4\"/>\r\n",
       "<!-- 0 -->\r\n",
       "<g id=\"node1\" class=\"node\"><title>0</title>\r\n",
       "<ellipse fill=\"none\" stroke=\"black\" cx=\"74.0934\" cy=\"-18\" rx=\"74.187\" ry=\"18\"/>\r\n",
       "<text text-anchor=\"middle\" x=\"74.0934\" y=\"-14.3\" font-family=\"Times New Roman,serif\" font-size=\"14.00\">(int8, int8) &#45;&gt; int8</text>\r\n",
       "</g>\r\n",
       "<!-- 1 -->\r\n",
       "<g id=\"node2\" class=\"node\"><title>1</title>\r\n",
       "<ellipse fill=\"none\" stroke=\"black\" cx=\"253.093\" cy=\"-18\" rx=\"87.1846\" ry=\"18\"/>\r\n",
       "<text text-anchor=\"middle\" x=\"253.093\" y=\"-14.3\" font-family=\"Times New Roman,serif\" font-size=\"14.00\">(int16, int16) &#45;&gt; int16</text>\r\n",
       "</g>\r\n",
       "<!-- 2 -->\r\n",
       "<g id=\"node3\" class=\"node\"><title>2</title>\r\n",
       "<ellipse fill=\"none\" stroke=\"black\" cx=\"467.093\" cy=\"-18\" rx=\"109.381\" ry=\"18\"/>\r\n",
       "<text text-anchor=\"middle\" x=\"467.093\" y=\"-14.3\" font-family=\"Times New Roman,serif\" font-size=\"14.00\">(float32, float32) &#45;&gt; float32</text>\r\n",
       "</g>\r\n",
       "<!-- 3 -->\r\n",
       "<g id=\"node4\" class=\"node\"><title>3</title>\r\n",
       "<ellipse fill=\"none\" stroke=\"black\" cx=\"696.093\" cy=\"-18\" rx=\"102.082\" ry=\"18\"/>\r\n",
       "<text text-anchor=\"middle\" x=\"696.093\" y=\"-14.3\" font-family=\"Times New Roman,serif\" font-size=\"14.00\">(int16, float32) &#45;&gt; float32</text>\r\n",
       "</g>\r\n",
       "<!-- 4 -->\r\n",
       "<g id=\"node5\" class=\"node\"><title>4</title>\r\n",
       "<ellipse fill=\"none\" stroke=\"black\" cx=\"253.093\" cy=\"-90\" rx=\"51.9908\" ry=\"18\"/>\r\n",
       "<text text-anchor=\"middle\" x=\"253.093\" y=\"-86.3\" font-family=\"Times New Roman,serif\" font-size=\"14.00\">(T, T) &#45;&gt; T</text>\r\n",
       "</g>\r\n",
       "<!-- 4&#45;&gt;0 -->\r\n",
       "<g id=\"edge1\" class=\"edge\"><title>4&#45;&gt;0</title>\r\n",
       "<path fill=\"none\" stroke=\"black\" d=\"M219.844,-75.9976C191.99,-65.1049 151.912,-49.4317 120.829,-37.2765\"/>\r\n",
       "<polygon fill=\"black\" stroke=\"black\" points=\"122.083,-34.0088 111.495,-33.6263 119.534,-40.5281 122.083,-34.0088\"/>\r\n",
       "</g>\r\n",
       "<!-- 4&#45;&gt;1 -->\r\n",
       "<g id=\"edge3\" class=\"edge\"><title>4&#45;&gt;1</title>\r\n",
       "<path fill=\"none\" stroke=\"black\" d=\"M253.093,-71.6966C253.093,-63.9827 253.093,-54.7125 253.093,-46.1124\"/>\r\n",
       "<polygon fill=\"black\" stroke=\"black\" points=\"256.594,-46.1043 253.093,-36.1043 249.594,-46.1044 256.594,-46.1043\"/>\r\n",
       "</g>\r\n",
       "<!-- 4&#45;&gt;2 -->\r\n",
       "<g id=\"edge5\" class=\"edge\"><title>4&#45;&gt;2</title>\r\n",
       "<path fill=\"none\" stroke=\"black\" d=\"M289.881,-76.9666C323.011,-66.1298 372.218,-50.0339 410.38,-37.5511\"/>\r\n",
       "<polygon fill=\"black\" stroke=\"black\" points=\"411.91,-40.7331 420.327,-34.2976 409.734,-34.08 411.91,-40.7331\"/>\r\n",
       "</g>\r\n",
       "<!-- 5 -->\r\n",
       "<g id=\"node6\" class=\"node\"><title>5</title>\r\n",
       "<ellipse fill=\"none\" stroke=\"black\" cx=\"421.093\" cy=\"-90\" rx=\"51.9908\" ry=\"18\"/>\r\n",
       "<text text-anchor=\"middle\" x=\"421.093\" y=\"-86.3\" font-family=\"Times New Roman,serif\" font-size=\"14.00\">(S, T) &#45;&gt; T</text>\r\n",
       "</g>\r\n",
       "<!-- 5&#45;&gt;0 -->\r\n",
       "<g id=\"edge2\" class=\"edge\"><title>5&#45;&gt;0</title>\r\n",
       "<path fill=\"none\" stroke=\"black\" d=\"M377.174,-80.2372C324.773,-69.7698 234.521,-51.7014 157.093,-36 151.275,-34.8202 145.229,-33.5898 139.171,-32.3542\"/>\r\n",
       "<polygon fill=\"black\" stroke=\"black\" points=\"139.5,-28.8494 129.002,-30.2778 138.1,-35.7078 139.5,-28.8494\"/>\r\n",
       "</g>\r\n",
       "<!-- 5&#45;&gt;1 -->\r\n",
       "<g id=\"edge4\" class=\"edge\"><title>5&#45;&gt;1</title>\r\n",
       "<path fill=\"none\" stroke=\"black\" d=\"M389.098,-75.6688C363.695,-65.084 327.83,-50.1401 299.307,-38.2557\"/>\r\n",
       "<polygon fill=\"black\" stroke=\"black\" points=\"300.518,-34.9688 289.941,-34.3533 297.826,-41.4303 300.518,-34.9688\"/>\r\n",
       "</g>\r\n",
       "<!-- 5&#45;&gt;2 -->\r\n",
       "<g id=\"edge6\" class=\"edge\"><title>5&#45;&gt;2</title>\r\n",
       "<path fill=\"none\" stroke=\"black\" d=\"M432.229,-72.055C437.629,-63.8373 444.231,-53.7911 450.231,-44.6599\"/>\r\n",
       "<polygon fill=\"black\" stroke=\"black\" points=\"453.174,-46.5545 455.741,-36.2753 447.324,-42.7102 453.174,-46.5545\"/>\r\n",
       "</g>\r\n",
       "<!-- 5&#45;&gt;3 -->\r\n",
       "<g id=\"edge7\" class=\"edge\"><title>5&#45;&gt;3</title>\r\n",
       "<path fill=\"none\" stroke=\"black\" d=\"M461.671,-78.6713C506.165,-67.3455 578.209,-49.007 630.7,-35.6455\"/>\r\n",
       "<polygon fill=\"black\" stroke=\"black\" points=\"631.765,-38.9861 640.593,-33.1274 630.039,-32.2024 631.765,-38.9861\"/>\r\n",
       "</g>\r\n",
       "</g>\r\n",
       "</svg>\r\n"
      ],
      "text/plain": [
       "<graphviz.dot.Digraph at 0x717d3c8>"
      ]
     },
     "execution_count": 21,
     "metadata": {},
     "output_type": "execute_result"
    }
   ],
   "source": [
    "# NOTE: http://stackoverflow.com/questions/33433274/anaconda-graphviz-cant-import-after-installation\n",
    "#       To install graphviz, you need both of the following:\n",
    "# > conda install graphviz\n",
    "# > pip install graphviz\n",
    "import graphviz\n",
    "def plot_matches_graph(sigs):\n",
    "    dot = graphviz.Digraph()\n",
    "    for i, node in enumerate(sigs):\n",
    "        dot.node(str(i), str(node))\n",
    "    for i, inode in enumerate(sigs):\n",
    "        for j, jnode in enumerate(sigs[i+1:], start=i+1):\n",
    "            if inode.match(jnode):\n",
    "                dot.edge(str(i), str(j))\n",
    "            elif jnode.match(inode):\n",
    "                dot.edge(str(j), str(i))\n",
    "    return dot\n",
    "\n",
    "plot_matches_graph(sigs3)"
   ]
  },
  {
   "cell_type": "code",
   "execution_count": null,
   "metadata": {
    "collapsed": true
   },
   "outputs": [],
   "source": []
  }
 ],
 "metadata": {
  "kernelspec": {
   "display_name": "Python 3",
   "language": "python",
   "name": "python3"
  },
  "language_info": {
   "codemirror_mode": {
    "name": "ipython",
    "version": 3
   },
   "file_extension": ".py",
   "mimetype": "text/x-python",
   "name": "python",
   "nbconvert_exporter": "python",
   "pygments_lexer": "ipython3",
   "version": "3.5.1"
  }
 },
 "nbformat": 4,
 "nbformat_minor": 0
}
